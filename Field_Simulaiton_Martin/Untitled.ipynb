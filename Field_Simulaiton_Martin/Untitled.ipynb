{
 "cells": [
  {
   "cell_type": "code",
   "execution_count": 66,
   "metadata": {},
   "outputs": [],
   "source": [
    "import numpy as np\n",
    "import array\n",
    "import matplotlib.pyplot as plt\n",
    "#\n"
   ]
  },
  {
   "cell_type": "code",
   "execution_count": 348,
   "metadata": {},
   "outputs": [],
   "source": [
    "def binfunc(binfac,x,y):\n",
    "    if (binfac == 1):\n",
    "        xbin = x\n",
    "        ybin = y\n",
    "        return xbin, ybin\n",
    "    else:\n",
    "        n1 = len(x)\n",
    "        nb = np.int(n1/binfac)\n",
    "        xmin = np.min(x)\n",
    "        xmax = np.max(x)\n",
    "        bins = np.linspace(xmin,xmax,nb)\n",
    "        dig = np.digitize(x,bins)\n",
    "        #y = y+1.e-99\n",
    "        ybin = [np.exp(np.log(y[dig==i]).mean()) for i in range (1,len(bins))]\n",
    "        xbin = 0.5*(bins[1:]+bins[:-1])\n",
    "        return xbin, ybin\n",
    "#\n",
    "nx = 2**12 #1024 # size of data array\n",
    "phi0 = 1.e-4\n",
    "myseed = 444\n",
    "# binfac = 2**6\n",
    "np.random.seed(myseed);\n",
    "phi = phi0*np.random.randn(nx)\n",
    "kernel = np.zeros(np.shape(phi))\n",
    "sx = 1.e-2/4.0\n",
    "sigsq = (sx*np.float(nx))**2\n",
    "for ix in range(nx):\n",
    "    kernel[ix]=np.exp(-0.5*(ix)**2/sigsq)\n",
    "phism = np.real(np.fft.ifft( np.fft.fft(phi)*kernel ))\n",
    "phism = phism - np.mean(phism)\n",
    "np.savetxt(\"real_phi.txt\",phism)\n",
    "spec = np.abs(np.fft.fft(phism))**2\n",
    "freqs = np.fft.fftfreq(len(phism))"
   ]
  },
  {
   "cell_type": "code",
   "execution_count": 351,
   "metadata": {
    "scrolled": false
   },
   "outputs": [
    {
     "data": {
      "image/png": "[encoded data removed]",
      "text/plain": [
       "<matplotlib.figure.Figure at 0x115655950>"
      ]
     },
     "metadata": {},
     "output_type": "display_data"
    }
   ],
   "source": [
    "x=np.arange(0,nx,1)\n",
    "# plt.plot(x,phism,\",\")\n",
    "# plt.hist(phi)\n",
    "# plt.hist(phism)\n",
    "\n",
    "# plt.plot(freqs, np.fft.fft(phi),\",\")\n",
    "# plt.plot(freqs, np.abs(kernel),\",\")\n",
    "# plt.plot(freqs, np.abs(np.fft.fft(phi)*kernel),\",\")\n",
    "\n",
    "# phi = phi - np.mean(phi)\n",
    "# phik=np.abs(np.fft.fft(phi))**2\n",
    "plt.plot(freqs,spec,\",\")\n",
    "# plt.hist(phism)\n",
    "plt.show()\n",
    "# np.fft.fft(phi);\n"
   ]
  },
  {
   "cell_type": "code",
   "execution_count": 313,
   "metadata": {},
   "outputs": [
    {
     "data": {
      "image/png": "[encoded data removed]",
      "text/plain": [
       "<matplotlib.figure.Figure at 0x11570acd0>"
      ]
     },
     "metadata": {},
     "output_type": "display_data"
    }
   ],
   "source": [
    "x=np.arange(0,nx,1)\n",
    "# plt.plot(x,phi,\"-\")\n",
    "plt.plot(x,phism,\",\")\n",
    "\n",
    "plt.show()"
   ]
  },
  {
   "cell_type": "code",
   "execution_count": 253,
   "metadata": {},
   "outputs": [
    {
     "data": {
      "image/png": "[encoded data removed]",
      "text/plain": [
       "<matplotlib.figure.Figure at 0x115086950>"
      ]
     },
     "metadata": {},
     "output_type": "display_data"
    }
   ],
   "source": [
    "plt.hist(phism)\n",
    "plt.show()"
   ]
  },
  {
   "cell_type": "code",
   "execution_count": null,
   "metadata": {
    "collapsed": true
   },
   "outputs": [],
   "source": [
    "def binfunc(binfac,x,y):\n",
    "    if (binfac == 1):\n",
    "        xbin = x\n",
    "        ybin = y\n",
    "        return xbin, ybin\n",
    "    else:\n",
    "        n1 = len(x)\n",
    "        nb = np.int(n1/binfac)\n",
    "        xmin = np.min(x)\n",
    "        xmax = np.max(x)\n",
    "        bins = np.linspace(xmin,xmax,nb)\n",
    "        dig = np.digitize(x,bins)\n",
    "        #y = y+1.e-99\n",
    "        ybin = [np.exp(np.log(y[dig==i]).mean()) for i in range (1,len(bins))]\n",
    "        xbin = 0.5*(bins[1:]+bins[:-1])\n",
    "        return xbin, ybin\n",
    "#\n",
    "nx = 2**16 #1024 # size of data array\n",
    "phi0 = 1.e-4\n",
    "myseed = 444\n",
    "binfac = 2**6\n",
    "#\n",
    "f1=open('./output.txt', 'w')\n",
    "f2=open('./spectrum_pi.txt', 'w')\n",
    "f3=open('./spectrum_zeta.txt', 'w')\n",
    "f4=open('./spectrum_phi.txt', 'w')\n",
    "#\n",
    "np.random.seed(seed=myseed)\n",
    "phi = phi0*np.random.randn(nx)\n",
    "kernel = np.zeros(np.shape(phi))\n",
    "sx = 1.e-2/4.0\n",
    "sigsq = (sx*np.float(nx))**2\n",
    "for ix in range(nx):\n",
    "    kernel[ix]=np.exp(-0.5*np.float(ix)**2/sigsq)\n",
    "phism = np.real(np.fft.ifft( np.fft.fft(phi)*kernel ))\n",
    "phism = phism - np.mean(phism)\n",
    "np.savetxt(\"real_phi.txt\",phism)\n",
    "spec = np.abs(np.fft.fft(phism))**2\n",
    "freqs = np.fft.fftfreq(len(phism))\n",
    "#f3.write(\" \".join(map(str,freqs)))\n",
    "#f3.write(\"\\n\")\n",
    "#f3.write(\" \".join(map(str,spec)))\n",
    "#f3.write(\"\\n\")\n",
    "xbin, ybin = binfunc(binfac,freqs,spec)\n",
    "f4.write(\" \".join(map(str,xbin)))\n",
    "f4.write(\"\\n\")\n",
    "f4.write(\" \".join(map(str,ybin)))\n",
    "f4.write(\"\\n\")\n",
    "#\n",
    "pi   = np.zeros(nx)\n",
    "zeta = np.zeros(nx)\n",
    "tauin = 0.0\n",
    "dt    = 1.e-3\n",
    "tauend = 1000.0 #100.0\n",
    "cs2 = 1.e-3\n",
    "al  = 1.0 #10000.0\n",
    "dx  = 1.0\n",
    "#\n",
    "#\n",
    "tau = tauin"
   ]
  }
 ],
 "metadata": {
  "kernelspec": {
   "display_name": "Python 2",
   "language": "python",
   "name": "python2"
  },
  "language_info": {
   "codemirror_mode": {
    "name": "ipython",
    "version": 2
   },
   "file_extension": ".py",
   "mimetype": "text/x-python",
   "name": "python",
   "nbconvert_exporter": "python",
   "pygments_lexer": "ipython2",
   "version": "2.7.14"
  }
 },
 "nbformat": 4,
 "nbformat_minor": 2
}
