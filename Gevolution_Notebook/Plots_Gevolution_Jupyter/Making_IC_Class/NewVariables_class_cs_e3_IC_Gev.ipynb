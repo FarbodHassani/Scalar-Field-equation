{
 "cells": [
  {
   "cell_type": "markdown",
   "metadata": {},
   "source": [
    "# Notebook for comparison beween hi-class and class and "
   ]
  },
  {
   "cell_type": "code",
   "execution_count": 1,
   "metadata": {
    "collapsed": true
   },
   "outputs": [],
   "source": [
    "import numpy as np\n",
    "import matplotlib.pylab as plt\n",
    "from scipy.interpolate import interp1d\n",
    "from pylab import rcParams\n",
    "tableau12 = [(0, 0, 0), (50, 0, 0), (0, 50, 0), (0, 0, 50),    \n",
    "             (0, 50, 50), (50, 50, 0), (50, 0, 50), (50, 50, 50),    \n",
    "             (100, 50, 50), (50, 100, 50), (50, 50, 100), (100, 100, 100)]    \n",
    "  \n",
    "# Scale the RGB values to the [0, 1] range, which is the format matplotlib accepts.    \n",
    "for i in range(len(tableau12)):    \n",
    "    r, g, b = tableau12[i]    \n",
    "    tableau12[i] = (r / 255., g / 255., b / 255.) \n",
    "    \n",
    "tableau20 = [(31, 119, 180), (174, 199, 232), (255, 127, 14), (255, 187, 120),    \n",
    "             (44, 160, 44), (152, 223, 138), (214, 39, 40), (255, 152, 150),    \n",
    "             (148, 103, 189), (197, 176, 213), (140, 86, 75), (196, 156, 148),    \n",
    "             (227, 119, 194), (247, 182, 210), (127, 127, 127), (199, 199, 199),    \n",
    "             (188, 189, 34), (219, 219, 141), (23, 190, 207), (158, 218, 229)]    \n",
    "  \n",
    "# Scale the RGB values to the [0, 1] range, which is the format matplotlib accepts.    \n",
    "for i in range(len(tableau20)):    \n",
    "    r, g, b = tableau20[i]    \n",
    "    tableau20[i] = (r / 255., g / 255., b / 255.)\n",
    "# plt.style.available\n",
    "plt.rcParams.update(plt.rcParamsDefault)\n",
    "\n",
    "# plt.style.use('seaborn-paper')\n",
    "plt.rcParams['font.serif'] = 'Ubuntu'"
   ]
  },
  {
   "cell_type": "markdown",
   "metadata": {},
   "source": [
    "# Adding files"
   ]
  },
  {
   "cell_type": "code",
   "execution_count": 2,
   "metadata": {
    "collapsed": true
   },
   "outputs": [],
   "source": [
    "#Class output  cs2=1.e-6, cs=10^-3\n",
    "Class_newt_cs_e3_z100=np.loadtxt(\"./class_cs_e3_newt/class_kess_cs_e3_newt_z1_tk.dat\")\n",
    "Class_newt_cs_e3_z99=np.loadtxt(\"./class_cs_e3_newt/class_kess_cs_e3_newt_z2_tk.dat\")\n",
    "Class_newt_cs_e3_z50=np.loadtxt(\"./class_cs_e3_newt/class_kess_cs_e3_newt_z3_tk.dat\")\n",
    "Class_newt_cs_e3_z10=np.loadtxt(\"./class_cs_e3_newt/class_kess_cs_e3_newt_z4_tk.dat\")\n",
    "Class_newt_cs_e3_z6=np.loadtxt(\"./class_cs_e3_newt/class_kess_cs_e3_newt_z5_tk.dat\")\n",
    "Class_newt_cs_e3_z1=np.loadtxt(\"./class_cs_e3_newt/class_kess_cs_e3_newt_z6_tk.dat\")\n",
    "Class_newt_cs_e3_z0=np.loadtxt(\"./class_cs_e3_newt/class_kess_cs_e3_newt_z7_tk.dat\")\n",
    "\n",
    "Class_newt_cs_e3_zall=[Class_newt_cs_e3_z100, Class_newt_cs_e3_z99,Class_newt_cs_e3_z50, Class_newt_cs_e3_z10, \n",
    "                       Class_newt_cs_e3_z6, Class_newt_cs_e3_z1, Class_newt_cs_e3_z0]\n",
    "\n",
    "# Class Background  cs2=1.e-6\n",
    "Bg_class_cs_e3=np.loadtxt(\"./class_cs_e3_newt/class_kess_cs_e3_newt_background.dat\")\n"
   ]
  },
  {
   "cell_type": "markdown",
   "metadata": {},
   "source": [
    "# Hubble in class unit and Background checks!"
   ]
  },
  {
   "cell_type": "code",
   "execution_count": 3,
   "metadata": {},
   "outputs": [
    {
     "name": "stdout",
     "output_type": "stream",
     "text": [
      "('H0[1/Mpc]=100h/c: ', 0.00022534256015206366)\n"
     ]
    },
    {
     "data": {
      "image/png": "[encoded data removed]",
      "text/plain": [
       "<matplotlib.figure.Figure at 0x10ea6ad10>"
      ]
     },
     "metadata": {},
     "output_type": "display_data"
    }
   ],
   "source": [
    "#Omega_radiation: Bg_class_cs_e3[4619,13]/Bg_class_cs_e3[4619,14]  + Bg_class_cs_e3[4619,8]/Bg_class_cs_e3[4619,14]\n",
    "# H in unit Mpc!\n",
    "h=0.67556;\n",
    "c=2.99792458*1.e5; #Km/s\n",
    "H0=100*h/c;\n",
    "print(\"H0[1/Mpc]=100h/c: \",H0);\n",
    "def Hubble_conf_Mpc(a):\n",
    "    c=2.99792458*1.e5;h=0.67556;H0=100*h/c;w=-0.9;\n",
    "    Omega_b=0.022032/h/h; Omega_cdm=0.12038/h/h;\n",
    "    Omega_m=Omega_b+Omega_cdm; Omega_Lambda=0;\n",
    "    Omega_rad=9.1671353942930788e-05; Omega_kessence=1.-Omega_m-Omega_rad;\n",
    "    return H0*np.sqrt(Omega_m*(a**-3)+Omega_rad*(a**-4)+Omega_kessence*(a**(-3*(1+w))))*a\n",
    "Hclass_cs_e3=Bg_class_cs_e3[:,3]\n",
    "aclass_cs_e3=1./(1+Bg_class_cs_e3[:,0])\n",
    "a=np.arange(0.001,2,0.0001)\n",
    "plt.loglog(aclass_cs_e3,Hclass_cs_e3[:]*aclass_cs_e3,color=\"red\",label=\"Class\")\n",
    "plt.loglog(aclass_cs_e3,Hubble_conf_Mpc(aclass_cs_e3),color=\"blue\",label=\"Formlua\")\n",
    "plt.loglog(aclass_cs_e3,2.*np.abs(Hclass_cs_e3[:]*aclass_cs_e3-Hubble_conf_Mpc(aclass_cs_e3))/(Hclass_cs_e3[:]*aclass_cs_e3+Hubble_conf_Mpc(aclass_cs_e3))\n",
    "           ,color=\"green\",label=\"Relative error\")\n",
    "\n",
    "# plt.loglog(a,H0*myHa,color=\"green\",label=\"FormluaII\")\n",
    "\n",
    "Hubble_conf_Mpc(a)\n",
    "plt.xlim(1e-3,2)\n",
    "# plt.ylim(1e-8,1e-1)\n",
    "\n",
    "plt.legend()\n",
    "plt.show()"
   ]
  },
  {
   "cell_type": "markdown",
   "metadata": {},
   "source": [
    "# File making, cs=10^-3, cs2=1.e-6"
   ]
  },
  {
   "cell_type": "code",
   "execution_count": 26,
   "metadata": {},
   "outputs": [
    {
     "name": "stdout",
     "output_type": "stream",
     "text": [
      "(0, 100)\n",
      "(1, 99.59722)\n",
      "(2, 48.322258)\n",
      "(3, 9.951253)\n",
      "(4, 5.808126)\n",
      "(5, 0.988975)\n",
      "(6, 0.0)\n"
     ]
    }
   ],
   "source": [
    "w=-0.9;\n",
    "# h=0.67;\n",
    "# As=2.215*10.e-9;\n",
    "# ns=0.96;\n",
    "# kp=0.05/h;\n",
    "cs2=0.000001;\n",
    "z_all=[100, 99.597220, 48.322258, 9.951253, 5.808126, 0.988975, 0.]\n",
    "z_list=[100, 99, 50, 10, 6, 1, 0]\n",
    "\n",
    "# List of scale factor\n",
    "H_conf_z100=Hubble_conf_Mpc(1./(1.+z_all[0])); # Unit=1/Mpc Hconf=a*H\n",
    "H_conf_z99=Hubble_conf_Mpc(1./(1.+z_all[1])); # Unit=1/Mpc Hconf=a*H\n",
    "H_conf_z50=Hubble_conf_Mpc(1./(1.+z_all[2])); # Unit=1/Mpc Hconf=a*H\n",
    "H_conf_z10=Hubble_conf_Mpc(1./(1.+z_all[3])); # Unit=1/Mpc Hconf=a*H\n",
    "H_conf_z6=Hubble_conf_Mpc(1./(1.+z_all[4])); # Unit=1/Mpc Hconf=a*H\n",
    "H_conf_z1=Hubble_conf_Mpc(1./(1.+z_all[5])); # Unit=1/Mpc Hconf=a*H\n",
    "H_conf_z0=Hubble_conf_Mpc(1./(1.+z_all[6])); # Unit=1/Mpc Hconf=a*H\n",
    "\n",
    "H_conf_zall_list=[H_conf_z100, H_conf_z99, H_conf_z50, H_conf_z10,\n",
    "                  H_conf_z6, H_conf_z1, H_conf_z0];\n",
    "# List of scale factor\n",
    "a100=(1./(1.+z_all[0])); a99=(1./(1.+z_all[1])); a50=(1./(1.+z_all[2])); a10=(1./(1.+z_all[3]));\n",
    "a6=(1./(1.+z_all[4])); a1=(1./(1.+z_all[5]));a0=(1./(1.+z_all[6]));\n",
    "a_all=[a100,a99,a50,a10,a6,a1,a0]\n",
    "# List of scale factor\n",
    "pi_Class_newt_cs_e3_zall=[]\n",
    "pi_prime_Class_newt_cs_e3_zall=[]\n",
    "# \\pi_conf in Newtonian in class : -(-\\theta/k^2) pi here is pi_conf! k unit should be in 1/Mpc.\n",
    "#K=1/Mpc and theta itself is in Mpc-1 so pi is in Mpc unit! and the conversion.\n",
    "#Note that in the definition of \\theta in terms of \\pi, it has a negative sign and in Fourier space becomes + sign!\n",
    "for i in range (0,7):\n",
    "    pi_Class_newt_cs_e3_zall.append(Class_newt_cs_e3_zall[i][:,12]/((Class_newt_cs_e3_zall[i][:,0]*h)**2));\n",
    "# pi_class_Newt_cs6_z0=Class_newt_cs6_z0[:,12]/((Class_newt_cs6_z0[:,0]*h)**2);\n",
    "\n",
    "#\\pi_v in class\n",
    "# Psi is Class_newt_z100[:,7] and delta=Class_newt_z100[:,4]\n",
    "#pi'_conf in class according to the formula: \\delta*(cs2/1+w) + \\Psi + 3 H_conf cs2 \\pi - H_conf \\pi\n",
    "    pi_prime_Class_newt_cs_e3_zall.append(cs2*Class_newt_cs_e3_zall[i][:,4]/(1.+w) + H_conf_zall_list[i] * pi_Class_newt_cs_e3_zall[i]*(3.*cs2-1.) + Class_newt_cs_e3_zall[i][:,8]) ;\n",
    "#     print(np.sum(Class_newt_cs_e3_zall[0]-Class_newt_cs_e3_z100))\n",
    "#Making file k, \\pi_newt, \\pi'_newt, \\delta_newt, \\theta_newt, \\Phi, delta_matter, Hubblez_conf\n",
    "    Class_z_cs_e3=np.zeros((np.shape(Class_newt_cs_e3_zall[i])[0],9))\n",
    "\n",
    "    Comments_columns=\"# Transfer functions T_i(k) for kessence field (normalized to initial curvature=1 at z= \"+str(z_list[i])+\" \\\n",
    "         # for k=1.05469e-05 to 239.653 h/Mpc, \\\n",
    "         #  number of wavenumbers equal to 199\\\n",
    "         # kessence model with w=-0.9 , $cs^2$= \"+str(cs2)+\"     \\\n",
    "         # d_i   stands for (delta rho_i/rho_i)(k,z) with above normalization \\\n",
    "         # d_tot stands for (delta rho_tot/rho_tot)(k,z) with rho_Lambda NOT included in rho_tot\\\n",
    "         # (note that this differs from the transfer function output from CAMB/CMBFAST, which gives the same\\\n",
    "         #  quantities divided by -k^2 with k in Mpc^-1; use format=camb to match CAMB)\\\n",
    "         # t_i   stands for theta_i(k,z) with above normalization \\\n",
    "         # t_tot stands for (sum_i [rho_i+p_i] theta_i)/(sum_i [rho_i+p_i]))(k,z)) \\\n",
    "         # k here is h/Mpc pi_conf (scalar field in conformal time) is in Mpc pi'_conf in dimensionless  \\\n",
    "         # Hubble is conformal hubble which is normalized to H0 \\\n",
    "         # d_kess_pi means \\pi_conf  in Newtonian gauge and in unit [Mpc] and t_kess_zeta means \\zeta = \\pi'+H pi -\\Psi which is dimensionless \\\n",
    "\\n   \\n \\\n",
    "1:k (h/Mpc)              2:pi                    3:zeta                    4:delta_fld                 5:theta_fld                  6:psi                   7:delta_tot                 8:delta_cdm                 9:H_conf[1/Mpc]                              \"\n",
    "\n",
    "\n",
    "    Class_z_cs_e3[:,0]=Class_newt_cs_e3_zall[i][:,0]    #k [h/Mpc] in class output\n",
    "    Class_z_cs_e3[:,1]=pi_Class_newt_cs_e3_zall[i][:]    # pi_newt conformal\n",
    "    Class_z_cs_e3[:,2]=pi_prime_Class_newt_cs_e3_zall[i][:]+ H_conf_zall_list[i] * pi_Class_newt_cs_e3_zall[i]- Class_newt_cs_e3_zall[i][:,8]   #zeta_newt= \\pi'_newt +\\mathH \\pi -\\Psi \n",
    "    Class_z_cs_e3[:,3]=Class_newt_cs_e3_zall[i][:,4]   #Delta_fld\n",
    "    Class_z_cs_e3[:,4]=Class_newt_cs_e3_zall[i][:,12]  #Theta_fld\n",
    "    Class_z_cs_e3[:,5]=Class_newt_cs_e3_zall[i][:,8]   #Psi\n",
    "    Class_z_cs_e3[:,6]=Class_newt_cs_e3_zall[i][:,6]    #delta_tot =(rho_cdm* delta_cdm + rho_b * delta_b)/rho_tot\n",
    "    Class_z_cs_e3[:,7]=Class_newt_cs_e3_zall[i][:,3]    #delta_tot =delta_cdm\n",
    "    Class_z_cs_e3[:,8]=H_conf_zall_list[i]#Hubblez_conf\n",
    "    \n",
    "    print(i,z_all[i])\n",
    "    np.savetxt('Class_kess_cs_e3_z'+str(z_list[i])+'_newt_Gev.dat',Class_z_cs_e3, fmt='%.12e', delimiter='\\t', newline='\\n',header=Comments_columns)"
   ]
  },
  {
   "cell_type": "code",
   "execution_count": 27,
   "metadata": {},
   "outputs": [
    {
     "data": {
      "text/plain": [
       "[0.0012837024740109319,\n",
       " 0.0012810667088571255,\n",
       " 0.00089045205187436637,\n",
       " 0.00041795121599636777,\n",
       " 0.00033080739889728843,\n",
       " 0.00020588071786863652,\n",
       " 0.00022534256015206366]"
      ]
     },
     "execution_count": 27,
     "metadata": {},
     "output_type": "execute_result"
    }
   ],
   "source": [
    "H_conf_zall_list"
   ]
  },
  {
   "cell_type": "markdown",
   "metadata": {},
   "source": [
    "# Tests"
   ]
  },
  {
   "cell_type": "code",
   "execution_count": 18,
   "metadata": {},
   "outputs": [
    {
     "ename": "IndexError",
     "evalue": "list index out of range",
     "output_type": "error",
     "traceback": [
      "\u001b[0;31m---------------------------------------------------------------------------\u001b[0m",
      "\u001b[0;31mIndexError\u001b[0m                                Traceback (most recent call last)",
      "\u001b[0;32m<ipython-input-18-33dc0645f278>\u001b[0m in \u001b[0;36m<module>\u001b[0;34m()\u001b[0m\n\u001b[1;32m     35\u001b[0m \u001b[0;31m# Psi is Class_newt_z100[:,7] and delta=Class_newt_z100[:,4]\u001b[0m\u001b[0;34m\u001b[0m\u001b[0;34m\u001b[0m\u001b[0m\n\u001b[1;32m     36\u001b[0m \u001b[0;31m#pi'_conf in class according to the formula: \\delta*(cs2/1+w) + \\Psi + 3 H_conf cs2 \\pi - H_conf \\pi\u001b[0m\u001b[0;34m\u001b[0m\u001b[0;34m\u001b[0m\u001b[0m\n\u001b[0;32m---> 37\u001b[0;31m     \u001b[0mpi_prime_Class_newt_cs_e3_zall\u001b[0m\u001b[0;34m.\u001b[0m\u001b[0mappend\u001b[0m\u001b[0;34m(\u001b[0m\u001b[0mcs2\u001b[0m\u001b[0;34m*\u001b[0m\u001b[0mClass_newt_cs_e3_zall\u001b[0m\u001b[0;34m[\u001b[0m\u001b[0mi\u001b[0m\u001b[0;34m]\u001b[0m\u001b[0;34m[\u001b[0m\u001b[0;34m:\u001b[0m\u001b[0;34m,\u001b[0m\u001b[0;36m4\u001b[0m\u001b[0;34m]\u001b[0m\u001b[0;34m/\u001b[0m\u001b[0;34m(\u001b[0m\u001b[0;36m1.\u001b[0m\u001b[0;34m+\u001b[0m\u001b[0mw\u001b[0m\u001b[0;34m)\u001b[0m \u001b[0;34m+\u001b[0m \u001b[0mH_conf_zall_list\u001b[0m\u001b[0;34m[\u001b[0m\u001b[0mi\u001b[0m\u001b[0;34m]\u001b[0m \u001b[0;34m*\u001b[0m \u001b[0mpi_Class_newt_cs_e3_zall\u001b[0m\u001b[0;34m[\u001b[0m\u001b[0mi\u001b[0m\u001b[0;34m]\u001b[0m\u001b[0;34m*\u001b[0m\u001b[0;34m(\u001b[0m\u001b[0;36m3.\u001b[0m\u001b[0;34m*\u001b[0m\u001b[0mcs2\u001b[0m\u001b[0;34m-\u001b[0m\u001b[0;36m1.\u001b[0m\u001b[0;34m)\u001b[0m \u001b[0;34m+\u001b[0m \u001b[0mClass_newt_cs_e3_zall\u001b[0m\u001b[0;34m[\u001b[0m\u001b[0mi\u001b[0m\u001b[0;34m]\u001b[0m\u001b[0;34m[\u001b[0m\u001b[0;34m:\u001b[0m\u001b[0;34m,\u001b[0m\u001b[0;36m8\u001b[0m\u001b[0;34m]\u001b[0m\u001b[0;34m)\u001b[0m \u001b[0;34m;\u001b[0m\u001b[0;34m\u001b[0m\u001b[0m\n\u001b[0m\u001b[1;32m     38\u001b[0m \u001b[0;31m#     print(np.sum(Class_newt_cs_e3_zall[0]-Class_newt_cs_e3_z100))\u001b[0m\u001b[0;34m\u001b[0m\u001b[0;34m\u001b[0m\u001b[0m\n\u001b[1;32m     39\u001b[0m \u001b[0;31m#Making file k, \\pi_newt, \\pi'_newt, \\delta_newt, \\theta_newt, \\Phi, delta_matter, Hubblez_conf\u001b[0m\u001b[0;34m\u001b[0m\u001b[0;34m\u001b[0m\u001b[0m\n",
      "\u001b[0;31mIndexError\u001b[0m: list index out of range"
     ]
    }
   ],
   "source": [
    "w=-0.9;\n",
    "# h=0.67;\n",
    "# As=2.215*10.e-9;\n",
    "# ns=0.96;\n",
    "# kp=0.05/h;\n",
    "cs2=0.000001;\n",
    "z_all=[100, 99.597220, 48.322258, 9.951253, 5.808126, 0.988975, 0.]\n",
    "# List of scale factor\n",
    "H_conf_z100=Hubble_conf_Mpc(1./(1.+z_all[0])); # Unit=1/Mpc Hconf=a*H\n",
    "H_conf_z99=Hubble_conf_Mpc(1./(1.+z_all[1])); # Unit=1/Mpc Hconf=a*H\n",
    "H_conf_z50=Hubble_conf_Mpc(1./(1.+z_all[2])); # Unit=1/Mpc Hconf=a*H\n",
    "H_conf_z10=Hubble_conf_Mpc(1./(1.+z_all[3])); # Unit=1/Mpc Hconf=a*H\n",
    "H_conf_z6=Hubble_conf_Mpc(1./(1.+z_all[4])); # Unit=1/Mpc Hconf=a*H\n",
    "H_conf_z1=Hubble_conf_Mpc(1./(1.+z_all[5])); # Unit=1/Mpc Hconf=a*H\n",
    "H_conf_z0=Hubble_conf_Mpc(1./(1.+z_all[6])); # Unit=1/Mpc Hconf=a*H\n",
    "\n",
    "H_conf_zall_list=[H_conf_z100,H_conf_z99, H_conf_z50, H_conf_z10,\n",
    "                  H_conf_z6, H_conf_z1, H_conf_z0];\n",
    "# List of scale factor\n",
    "a100=(1./(1.+z_all[0])); a99=(1./(1.+z_all[1])); a50=(1./(1.+z_all[2])); a10=(1./(1.+z_all[3]));\n",
    "a6=(1./(1.+z_all[4])); a1=(1./(1.+z_all[5]));a0=(1./(1.+z_all[6]));\n",
    "a_all=[a100,a99,a50,a10,a6,a1,a0]\n",
    "# List of scale factor\n",
    "pi_Class_newt_cs_e3_zall=[]\n",
    "pi_prime_Class_newt_cs_e3_zall=[]\n",
    "# \\pi_conf in Newtonian in class : -(-\\theta/k^2) pi here is pi_conf! k unit should be in 1/Mpc.\n",
    "#K=1/Mpc and theta itself is in Mpc-1 so pi is in Mpc unit! and the conversion.\n",
    "#Note that in the definition of \\theta in terms of \\pi, it has a negative sign and in Fourier space becomes + sign!\n",
    "for i in range (1):\n",
    "    i=1\n",
    "    pi_Class_newt_cs_e3_zall.append(Class_newt_cs_e3_zall[i][:,12]/((Class_newt_cs_e3_zall[i][:,0]*h)**2));\n",
    "# pi_class_Newt_cs6_z0=Class_newt_cs6_z0[:,12]/((Class_newt_cs6_z0[:,0]*h)**2);\n",
    "\n",
    "#\\pi_v in class\n",
    "# Psi is Class_newt_z100[:,7] and delta=Class_newt_z100[:,4]\n",
    "#pi'_conf in class according to the formula: \\delta*(cs2/1+w) + \\Psi + 3 H_conf cs2 \\pi - H_conf \\pi\n",
    "    pi_prime_Class_newt_cs_e3_zall.append(cs2*Class_newt_cs_e3_zall[i][:,4]/(1.+w) + H_conf_zall_list[i] * pi_Class_newt_cs_e3_zall[i]*(3.*cs2-1.) + Class_newt_cs_e3_zall[i][:,8]) ;\n",
    "#     print(np.sum(Class_newt_cs_e3_zall[0]-Class_newt_cs_e3_z100))\n",
    "#Making file k, \\pi_newt, \\pi'_newt, \\delta_newt, \\theta_newt, \\Phi, delta_matter, Hubblez_conf\n",
    "    Class_z_cs_e3=np.zeros((np.shape(Class_newt_cs_e3_zall[i])[0],9))\n",
    "\n",
    "    Comments_columns=\"# Transfer functions T_i(k) for kessence field (normalized to initial curvature=1 at z= \"+str(z_all[i])+\" \\\n",
    "         # for k=1.05469e-05 to 239.653 h/Mpc, \\\n",
    "         #  number of wavenumbers equal to 199\\\n",
    "         # kessence model with w=-0.9 , $cs^2$= \"+str(cs2)+\"     \\\n",
    "         # d_i   stands for (delta rho_i/rho_i)(k,z) with above normalization \\\n",
    "         # d_tot stands for (delta rho_tot/rho_tot)(k,z) with rho_Lambda NOT included in rho_tot\\\n",
    "         # (note that this differs from the transfer function output from CAMB/CMBFAST, which gives the same\\\n",
    "         #  quantities divided by -k^2 with k in Mpc^-1; use format=camb to match CAMB)\\\n",
    "         # t_i   stands for theta_i(k,z) with above normalization \\\n",
    "         # t_tot stands for (sum_i [rho_i+p_i] theta_i)/(sum_i [rho_i+p_i]))(k,z)) \\\n",
    "         # k here is h/Mpc pi_conf (scalar field in conformal time) is in Mpc pi'_conf in dimensionless  \\\n",
    "         # Hubble is conformal hubble which is normalized to H0 \\\n",
    "         # d_kess_pi means \\pi_conf  in Newtonian gauge and in unit [Mpc] and t_kess_zeta means \\zeta = \\pi'+H pi -\\Psi which is dimensionless \\\n",
    "\\n   \\n \\\n",
    "1:k (h/Mpc)              2:pi                    3:zeta                    4:delta_fld                 5:theta_fld                  6:psi                   7:delta_tot                 8:delta_cdm                 9:H_conf[1/Mpc]                              \"\n",
    "\n",
    "\n",
    "    Class_z_cs_e3[:,0]=Class_newt_cs_e3_zall[i][:,0]    #k [h/Mpc] in class output\n",
    "    Class_z_cs_e3[:,1]=pi_Class_newt_cs_e3_zall[i][:]    # pi_newt conformal\n",
    "    Class_z_cs_e3[:,2]=pi_prime_Class_newt_cs_e3_zall[i][:]+ H_conf_zall_list[i] * pi_Class_newt_cs_e3_zall[i]- Class_newt_cs_e3_zall[i][:,8]   #zeta_newt= \\pi'_newt +\\mathH \\pi -\\Psi \n",
    "    Class_z_cs_e3[:,3]=Class_newt_cs_e3_zall[i][:,4]   #Delta_fld\n",
    "    Class_z_cs_e3[:,4]=Class_newt_cs_e3_zall[i][:,12]  #Theta_fld\n",
    "    Class_z_cs_e3[:,5]=Class_newt_cs_e3_zall[i][:,8]   #Psi\n",
    "    Class_z_cs_e3[:,6]=Class_newt_cs_e3_zall[i][:,6]    #delta_tot =(rho_cdm* delta_cdm + rho_b * delta_b)/rho_tot\n",
    "    Class_z_cs_e3[:,7]=Class_newt_cs_e3_zall[i][:,3]    #delta_tot =delta_cdm\n",
    "    Class_z_cs_e3[:,8]=H_conf_zall_list[i]#Hubblez_conf\n",
    "    pi_class_cs_e3_newt=(Class_z_cs_e3[:,4]/((Class_z_cs_e3[:,0]*h)**2) );\n",
    "    pi_prime_class_cs_e3_newt_zlist=(cs2*Class_z_cs_e3[:,3]/(1.+w) + H_conf_zall_list[i]*pi_class_cs_e3_newt*(3.*cs2-1.) + Class_z_cs_e3[:,5]) ;\n",
    "    #     pi_prime_class_cs_e1_newt_zlist.append(cs2_e1*class_cs_e1_newt[i][:,3]/(1.+w) + H_conf_zall_list[i]*pi_class_cs_e1_newt_zlist[i]*(3.*cs2_e1-1.) + class_cs_e1_newt[i][:,5]) ;\n",
    "    #     pi_prime_class_cs_e0_newt_zlist.append(cs2_e0*class_cs_e0_newt[i][:,3]/(1.+w) + H_conf_zall_list[i]*pi_class_cs_e0_newt_zlist[i]*(3.*cs2_e0-1.) + class_cs_e0_newt[i][:,5]) ;\n",
    "    zeta_class_cs_e3_newt_zlist= pi_prime_class_cs_e3_newt_zlist[:] + H_conf_zall_list[i]*pi_class_cs_e3_newt[:] - Class_z_cs_e3[:,5];\n",
    "    #*********************************\n",
    "    # pi_prime_Class_newt_cs_e3_zall.append(cs2*Class_newt_cs_e3_zall[i][:,4]/(1.+w) + H_conf_zall_list[i] * pi_Class_newt_cs_e3_zall[i]*(3.*cs2-1.) + Class_newt_cs_e3_zall[i][:,8]) ;\n",
    "\n",
    "    # Some checks!\n",
    "    # We expect that \\dot{\\pi} + \\Psi vanish! which we get \\pi'+ H \\pi -\\Psi, cs=1.e-3;\n",
    "    pidot_zlist=(pi_prime_class_cs_e3_newt_zlist + H_conf_zall_list[i] * pi_class_cs_e3_newt)\n",
    "#     Psi_zlist=(class_z_all[i][:,5])\n",
    "    #*********************************\n",
    "    plt.loglog(Class_newt_cs_e3_z100[:,0],np.abs(Class_z_cs_e3[:,2]),color=\"red\",label=r\"$\\zeta$ in the file, $c_s=10^{-3}$\" )\n",
    "    plt.loglog(Class_newt_cs_e3_z100[:,0],np.abs(zeta_class_cs_e3_newt_zlist[:]),color=\"blue\",label=r\"$\\zeta$ made here by $|\\pi' +  \\mathcal{H} \\pi - \\Psi|$\")\n",
    "    plt.loglog(Class_newt_cs_e3_z100[:,0],np.abs(pidot_zlist[:]-Class_z_cs_e3[:,5]),color=\"blue\",label=r\"$\\zeta$ made here by $|\\pi' +  \\mathcal{H} \\pi - \\Psi|$\")\n",
    "\n",
    "    \n",
    "    plt.show()\n",
    "    print(i,z_all[i])\n",
    "#     np.savetxt('Class_kess_cs_e3_z'+str(z_all[i])+'_newt_Gev.dat',Class_z_cs_e3, fmt='%.12e', delimiter='\\t', newline='\\n',header=Comments_columns)"
   ]
  },
  {
   "cell_type": "code",
   "execution_count": 21,
   "metadata": {},
   "outputs": [
    {
     "data": {
      "text/plain": [
       "0.0012810667088571255"
      ]
     },
     "execution_count": 21,
     "metadata": {},
     "output_type": "execute_result"
    }
   ],
   "source": [
    "H_conf_zall_list[1]"
   ]
  },
  {
   "cell_type": "code",
   "execution_count": null,
   "metadata": {},
   "outputs": [],
   "source": [
    "w=-0.9;\n",
    "# h=0.67;\n",
    "# As=2.215*10.e-9;\n",
    "# ns=0.96;\n",
    "# kp=0.05/h;\n",
    "cs2=0.000001;\n",
    "# z_all=[99.597220, 48.322258, 9.951253, 5.808126, 0.988975, 0]\n",
    "z_all=[100., 99.597220, 48.322258, 9.951253, 5.808126, 0.988975, 0.]\n",
    "# List of scale factor\n",
    "H_conf_z100=Hubble_conf_Mpc(1./(1.+z_all[0])); # Unit=1/Mpc Hconf=a*H\n",
    "H_conf_z99=Hubble_conf_Mpc(1./(1.+z_all[1])); # Unit=1/Mpc Hconf=a*H\n",
    "H_conf_z50=Hubble_conf_Mpc(1./(1.+z_all[2])); # Unit=1/Mpc Hconf=a*H\n",
    "H_conf_z10=Hubble_conf_Mpc(1./(1.+z_all[3])); # Unit=1/Mpc Hconf=a*H\n",
    "H_conf_z6=Hubble_conf_Mpc(1./(1.+z_all[4])); # Unit=1/Mpc Hconf=a*H\n",
    "H_conf_z1=Hubble_conf_Mpc(1./(1.+z_all[5])); # Unit=1/Mpc Hconf=a*H\n",
    "H_conf_z0=Hubble_conf_Mpc(1./(1.+z_all[6])); # Unit=1/Mpc Hconf=a*H\n",
    "\n",
    "H_conf_zall_list=[H_conf_z100,H_conf_z99, H_conf_z50, H_conf_z10,\n",
    "                  H_conf_z6, H_conf_z1, H_conf_z0];\n",
    "# List of scale factor\n",
    "a100=(1./(1.+z_all[0])); a99=(1./(1.+z_all[1])); a50=(1./(1.+z_all[2])); a10=(1./(1.+z_all[3]));\n",
    "a6=(1./(1.+z_all[4])); a1=(1./(1.+z_all[5]));a0=(1./(1.+z_all[6]));\n",
    "a_all=[a100,a50,a10,a6,a1,a0]\n",
    "# List of scale factor\n",
    "pi_Class_newt_cs_e3_zall=[]\n",
    "pi_prime_Class_newt_cs_e3_zall=[]\n",
    "# \\pi_conf in Newtonian in class : -(-\\theta/k^2) pi here is pi_conf! k unit should be in 1/Mpc.\n",
    "#K=1/Mpc and theta itself is in Mpc-1 so pi is in Mpc unit! and the conversion.\n",
    "#Note that in the definition of \\theta in terms of \\pi, it has a negative sign and in Fourier space becomes + sign!\n",
    "i=0\n",
    "# pi_Class_newt_cs_e3_zall.append(Class_newt_cs_e3_zall[i][:,12]/((Class_newt_cs_e3_zall[i][:,0]*h)**2));\n",
    "# # pi_class_Newt_cs6_z0=Class_newt_cs6_z0[:,12]/((Class_newt_cs6_z0[:,0]*h)**2);\n",
    "\n",
    "# #\\pi_v in class\n",
    "# # Psi is Class_newt_z100[:,7] and delta=Class_newt_z100[:,4]\n",
    "# #pi'_conf in class according to the formula: \\delta*(cs2/1+w) + \\Psi + 3 H_conf cs2 \\pi - H_conf \\pi\n",
    "# pi_prime_Class_newt_cs_e3_zall=cs2*Class_newt_cs_e3_zall[i][:,4]/(1.+w) + H_conf_zall_list[i] * pi_Class_newt_cs_e3_zall[i]*(3.*cs2-1.) + Class_newt_cs_e3_zall[i][:,8] ;\n",
    "#     print(np.sum(Class_newt_cs_e3_zall[0]-Class_newt_cs_e3_z100))\n",
    "#Making file k, \\pi_newt, \\pi'_newt, \\delta_newt, \\theta_newt, \\Phi, delta_matter, Hubblez_conf\n",
    "\n",
    "pi_class_cs_e3_newt=Class_newt_cs_e3_zall[i][:,12]/((Class_newt_cs_e3_zall[i][:,0]*h)**2) ;\n",
    "\n",
    "\n",
    "pi_prime_class_cs_e3_newt_zlist=cs2*Class_newt_cs_e3_zall[i][:,4]/(1.+w) +H_conf_zall_list[i]*pi_class_cs_e3_newt*(3.*cs2-1.) + Class_newt_cs_e3_zall[i][:,8] ;\n",
    "#     pi_prime_class_cs_e1_newt_zlist.append(cs2_e1*class_cs_e1_newt[i][:,3]/(1.+w) + H_conf_zall_list[i]*pi_class_cs_e1_newt_zlist[i]*(3.*cs2_e1-1.) + class_cs_e1_newt[i][:,5]) ;\n",
    "#     pi_prime_class_cs_e0_newt_zlist.append(cs2_e0*class_cs_e0_newt[i][:,3]/(1.+w) + H_conf_zall_list[i]*pi_class_cs_e0_newt_zlist[i]*(3.*cs2_e0-1.) + class_cs_e0_newt[i][:,5]) ;\n",
    "zeta_class_cs_e3_newt_zlist= pi_prime_class_cs_e3_newt_zlist[:] + H_conf_zall_list[i]*pi_class_cs_e3_newt[:] - Class_newt_cs_e3_zall[i][:,8];\n",
    "\n",
    "\n",
    "\n",
    "zeta_class_cs_e3_newt= pi_prime_Class_newt_cs_e3[:] + H_conf_z100*pi_Class_newt_cs_e3[:] - Class_newt_cs_e3_zall[i][:,8];\n",
    "\n",
    "\n",
    "#*********************************\n",
    "# pi_prime_Class_newt_cs_e3_zall.append(cs2*Class_newt_cs_e3_zall[i][:,4]/(1.+w) + H_conf_zall_list[i] * pi_Class_newt_cs_e3_zall[i]*(3.*cs2-1.) + Class_newt_cs_e3_zall[i][:,8]) ;\n",
    "\n",
    "# Some checks!\n",
    "# We expect that \\dot{\\pi} + \\Psi vanish! which we get \\pi'+ H \\pi -\\Psi, cs=1.e-3;\n",
    "\n",
    "# plt.loglog(Class_newt_cs_e3_z100[:,0],np.abs(zeta_class_cs_e3_newt[:]),color=\"blue\",label=r\"$\\zeta$ made here by $|\\pi' +  \\mathcal{H} \\pi - \\Psi|$\")\n",
    "# plt.loglog(Class_newt_cs_e3_z100[:,0],np.abs(pi_prime_Class_newt_cs_e3[:]+ H_conf_z100 * pi_Class_newt_cs_e3- Class_newt_cs_e3_z100[:,8])\n",
    "#            ,color=\"red\",label=r\"$\\zeta$ in the file, $c_s=10^{-3}$\" )\n",
    "\n",
    "\n",
    "plt.loglog(Class_newt_cs_e3_z100[:,0],np.abs(pi_prime_Class_newt_cs_e3[:]+ H_conf_z100 * pi_Class_newt_cs_e3- Class_newt_cs_e3_z100[:,8])\n",
    "           ,color=\"red\",label=r\"$\\zeta$ in the file, $c_s=10^{-3}$\" )\n",
    "plt.loglog(Class_newt_cs_e3_z100[:,0],np.abs(zeta_class_cs_e3_newt[:]),color=\"blue\",label=r\"$\\zeta$ made here by $|\\pi' +  \\mathcal{H} \\pi - \\Psi|$\")\n",
    "\n",
    "plt.loglog(Class_newt_cs_e3_zall[i][:,0],np.abs(pi_prime_class_cs_e3_newt_zlist[:]+ H_conf_zall_list[i] * pi_class_cs_e3_newt- Class_newt_cs_e3_zall[i][:,8])\n",
    "           ,color=\"red\",label=r\"$\\zeta$ in the file, $c_s=10^{-3}$, z=\"+str(z_all[i]))\n",
    "plt.loglog(Class_newt_cs_e3_zall[i][:,0],np.abs(zeta_class_cs_e3_newt_zlist[:]),color=\"blue\",label=r\"$\\zeta$ made here by $|\\pi' +  \\mathcal{H} \\pi - \\Psi|$\")\n",
    "#     plt.loglog(Class_newt_cs_e3_zall[i][:,0],np.abs(pidot_zlist[:]-Class_newt_cs_e3_zall[i][:,5]),color=\"purple\",label=r\"$\\zeta$ made here by $|\\dot{\\pi} - \\Psi|$\")\n",
    "#     plt.loglog(Class_newt_cs_e3_zall[i][:,0],np.abs(zeta_class_cs_e3_newt_zlist[:]-Class_newt_cs_e3_zall[i][:,2])/np.abs(Class_newt_cs_e3_zall[i][:,2]),color=\"green\",label=r\"$|\\Delta\\zeta/\\zeta|$\")\n",
    "#     plt.axvline(x=Hubble_conf_Mpc(a_all[i])/h, color='brown', linestyle='-',label=r\"Hubble-horizon(z=\"+str(z_list[i])+\")\")\n",
    "#     plt.axvline(x=Hubble_conf_Mpc(a_all[i])/np.sqrt(cs2)/h, color='tomato', linestyle='-',label=r\"Sound-horizon(z=\"+str(z_list[i])+\")\")\n",
    "# plt.loglog(class_z_all[i][:,0],(zeta_class_cs_e3_newt_zlist[:]-class_z_all[i][:,2])/zeta_class_cs_e3_newt_zlist[:],color=\"green\",label=r\"$zeta'$ difference\")\n",
    "plt.legend(bbox_to_anchor=(0.05, 0.18, 0.66, .102), loc=1,ncol=1,fontsize=12, mode=\"expand\", borderaxespad=0.)\n",
    "plt.xlabel(\"k[h/Mpc]\",fontsize=11)\n",
    "plt.ylabel(r\"$\\pi'$\",fontsize=11)\n",
    "plt.grid(True)\n",
    "plt.show()\n",
    "# print(i,z[i])\n",
    "#     np.savetxt('Class_kess_cs_e3_z'+str(z[i])+'_newt_Gev.dat',Class_z_cs_e3, fmt='%.12e', delimiter='\\t', newline='\\n',header=Comments_columns)"
   ]
  },
  {
   "cell_type": "code",
   "execution_count": null,
   "metadata": {},
   "outputs": [],
   "source": []
  },
  {
   "cell_type": "code",
   "execution_count": null,
   "metadata": {},
   "outputs": [],
   "source": []
  },
  {
   "cell_type": "code",
   "execution_count": null,
   "metadata": {},
   "outputs": [],
   "source": [
    "Class_newt_cs_e3_z100=np.loadtxt(\"./class_cs_e3_newt/class_kess_cs_e3_newt_z1_tk.dat\")\n",
    "H_conf_z100=Hubble_conf_Mpc(1./(1.+100)); # Unit=1/Mpc Hconf=a*H\n",
    "w=-0.9;\n",
    "cs2=0.000001\n",
    "i=0;\n",
    "pi_Class_newt_cs_e3=Class_newt_cs_e3_zall[i][:,12]/((Class_newt_cs_e3_zall[i][:,0]*h)**2);\n",
    "pi_prime_Class_newt_cs_e3=cs2*Class_newt_cs_e3_zall[i][:,4]/(1.+w) + H_conf_z100 * pi_Class_newt_cs_e3*(3.*cs2-1.) + Class_newt_cs_e3_zall[i][:,8] ;\n",
    "\n",
    "zeta_class_cs_e3_newt= pi_prime_Class_newt_cs_e3[:] + H_conf_z100*pi_Class_newt_cs_e3[:] - Class_newt_cs_e3_zall[i][:,8];\n",
    "\n",
    "# pidot_zlist=(pi_prime_Class_newt_cs_e3 + H_conf_z100 * pi_Class_newt_cs_e3)\n",
    "plt.loglog(Class_newt_cs_e3_z100[:,0],np.abs(pi_prime_Class_newt_cs_e3[:]+ H_conf_z100 * pi_Class_newt_cs_e3- Class_newt_cs_e3_z100[:,8])\n",
    "           ,color=\"red\",label=r\"$\\zeta$ in the file, $c_s=10^{-3}$\" )\n",
    "plt.loglog(Class_newt_cs_e3_z100[:,0],np.abs(zeta_class_cs_e3_newt[:]),color=\"blue\",label=r\"$\\zeta$ made here by $|\\pi' +  \\mathcal{H} \\pi - \\Psi|$\")\n",
    "#     plt.loglog(Class_newt_cs_e3_zall[i][:,0],np.abs(pidot_zlist[:]-Class_newt_cs_e3_zall[i][:,5]),color=\"purple\",label=r\"$\\zeta$ made here by $|\\dot{\\pi} - \\Psi|$\")\n",
    "#     plt.loglog(Class_newt_cs_e3_zall[i][:,0],np.abs(zeta_class_cs_e3_newt_zlist[:]-Class_newt_cs_e3_zall[i][:,2])/np.abs(Class_newt_cs_e3_zall[i][:,2]),color=\"green\",label=r\"$|\\Delta\\zeta/\\zeta|$\")\n",
    "#     plt.axvline(x=Hubble_conf_Mpc(a_all[i])/h, color='brown', linestyle='-',label=r\"Hubble-horizon(z=\"+str(z_list[i])+\")\")\n",
    "#     plt.axvline(x=Hubble_conf_Mpc(a_all[i])/np.sqrt(cs2)/h, color='tomato', linestyle='-',label=r\"Sound-horizon(z=\"+str(z_list[i])+\")\")\n",
    "# plt.loglog(class_z_all[i][:,0],(zeta_class_cs_e3_newt_zlist[:]-class_z_all[i][:,2])/zeta_class_cs_e3_newt_zlist[:],color=\"green\",label=r\"$zeta'$ difference\")\n",
    "plt.legend(bbox_to_anchor=(0.05, 0.18, 0.66, .102), loc=1,ncol=1,fontsize=12, mode=\"expand\", borderaxespad=0.)\n",
    "plt.xlabel(\"k[h/Mpc]\",fontsize=11)\n",
    "plt.ylabel(r\"$\\pi'$\",fontsize=11)\n",
    "plt.grid(True)\n",
    "plt.show()\n",
    "\n",
    "\n",
    "\n",
    "\n",
    "\n",
    "\n"
   ]
  },
  {
   "cell_type": "code",
   "execution_count": null,
   "metadata": {
    "collapsed": true
   },
   "outputs": [],
   "source": [
    "\n",
    "\n",
    "\n",
    "\n",
    "\n",
    "\n",
    "\n"
   ]
  }
 ],
 "metadata": {
  "anaconda-cloud": {},
  "kernelspec": {
   "display_name": "Python 2",
   "language": "python",
   "name": "python2"
  },
  "language_info": {
   "codemirror_mode": {
    "name": "ipython",
    "version": 2
   },
   "file_extension": ".py",
   "mimetype": "text/x-python",
   "name": "python",
   "nbconvert_exporter": "python",
   "pygments_lexer": "ipython2",
   "version": "2.7.14"
  }
 },
 "nbformat": 4,
 "nbformat_minor": 1
}
