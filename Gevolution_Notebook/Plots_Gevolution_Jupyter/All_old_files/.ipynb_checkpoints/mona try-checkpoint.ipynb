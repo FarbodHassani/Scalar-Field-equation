{
 "cells": [
  {
   "cell_type": "code",
   "execution_count": 1,
   "metadata": {
    "collapsed": true
   },
   "outputs": [],
   "source": [
    "import numpy as np\n",
    "import matplotlib.pylab as plt\n",
    "from scipy.interpolate import interp1d\n",
    "from pylab import rcParams"
   ]
  },
  {
   "cell_type": "code",
   "execution_count": 17,
   "metadata": {},
   "outputs": [],
   "source": [
    "#Gevolution files calling\n",
    "pi_Gev_z_list=[];\n",
    "pi_v_Gev_z_list=[];\n",
    "phigev_z_list=[];\n",
    "delta_kess_z_list=[];\n",
    "delta_m_z_list=[];\n",
    "z_list=[100,10,1,0];\n",
    "for i in range (4):\n",
    "    pi_Gev_z_list.append(np.loadtxt(\"./../output/lcdm_pk00\"+str(i)+\"_pi_k.dat\") )\n",
    "    pi_v_Gev_z_list.append(np.loadtxt(\"./../output/lcdm_pk00\"+str(i)+\"_pi_v_k.dat\") )\n",
    "    phigev_z_list.append(np.loadtxt(\"./../output/lcdm_pk00\"+str(i)+\"_phi.dat\") )\n",
    "    delta_kess_z_list=np.loadtxt(\"./../output/lcdm_pk00\"+str(i)+\"_delta_kess.dat\")\n",
    "    delta_m_z_list=np.loadtxt(\"./../output/lcdm_pk00\"+str(i)\"_delta.dat\")\n",
    "\n",
    "# Class file calling\n",
    "# Class_newt_z100_cs6=np.loadtxt(\"./../Class_kess_cs6_z100_newt_Gev.dat\")\n",
    "# Class_Bg_newt_cs6=np.loadtxt(\"./class_kess_cs6_newt_background.dat\")\n",
    "\n",
    "# bg_Gevolution=np.loadtxt(\"./../output/lcdm_background.dat\")\n"
   ]
  },
  {
   "cell_type": "code",
   "execution_count": 12,
   "metadata": {},
   "outputs": [
    {
     "data": {
      "text/plain": [
       "0.01570796"
      ]
     },
     "execution_count": 12,
     "metadata": {},
     "output_type": "execute_result"
    }
   ],
   "source": []
  },
  {
   "cell_type": "code",
   "execution_count": null,
   "metadata": {
    "collapsed": true
   },
   "outputs": [],
   "source": []
  }
 ],
 "metadata": {
  "kernelspec": {
   "display_name": "Python 2",
   "language": "python",
   "name": "python2"
  },
  "language_info": {
   "codemirror_mode": {
    "name": "ipython",
    "version": 2
   },
   "file_extension": ".py",
   "mimetype": "text/x-python",
   "name": "python",
   "nbconvert_exporter": "python",
   "pygments_lexer": "ipython2",
   "version": "2.7.14"
  }
 },
 "nbformat": 4,
 "nbformat_minor": 2
}
