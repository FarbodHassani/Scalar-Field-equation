{
 "cells": [
  {
   "cell_type": "code",
   "execution_count": 3,
   "metadata": {
    "collapsed": true
   },
   "outputs": [],
   "source": [
    "import numpy as np\n",
    "import matplotlib.pylab as plt\n",
    "from scipy.interpolate import interp1d"
   ]
  },
  {
   "cell_type": "markdown",
   "metadata": {},
   "source": [
    "# \\pi' comparison between class and hi-class"
   ]
  },
  {
   "cell_type": "code",
   "execution_count": 4,
   "metadata": {
    "collapsed": true,
    "scrolled": true
   },
   "outputs": [],
   "source": [
    "hiClass_synch=np.loadtxt(\"./Kessence_field.dat\")\n",
    "# hiclass_cs1=np.loadtxt(\"./Kessence_field_cs1.dat\")\n",
    "# hiclass_cs0z0=np.loadtxt(\"./Kessence_field_cs0_z0.dat\")\n",
    "# class_cs0_synch=np.loadtxt(\"./class_kess_cs0_synch_tk.dat\")\n",
    "# class_cs1_synch=np.loadtxt(\"./class_kess_cs1_synch_tk.dat\")\n",
    "# class_cs0_newt=np.loadtxt(\"./class_kess_cs0_newt_tk.dat\")\n",
    "# class_cs1_newt=np.loadtxt(\"./class_kess_cs1_newt_tk.dat\")"
   ]
  },
  {
   "cell_type": "markdown",
   "metadata": {},
   "source": [
    "# Make the file of hi-class"
   ]
  },
  {
   "cell_type": "markdown",
   "metadata": {},
   "source": [
    "# Making file in Newtonian gauge at z=100"
   ]
  },
  {
   "cell_type": "code",
   "execution_count": 10,
   "metadata": {},
   "outputs": [],
   "source": [
    "h=0.67;\n",
    "# file=open(\"kessenc.dat\",'w+');\n",
    "data_hi = hiClass_synch\n",
    "Num_columns=7;\n",
    "astar_hi=1./101. # z=100, desired redshift\n",
    "ainterval_hi=0.03  # if you get interpolation error just increase this number :D\n",
    "mask_hi = np.logical_and(data_hi[:,1]>astar_hi-ainterval_hi, data_hi[:,1]<astar_hi+ainterval_hi)\n",
    "# 1 is a column\n",
    "dataprime_hi = data_hi[mask_hi]\n",
    "\n",
    "condition_hi=np.zeros(np.shape(dataprime_hi)[0])\n",
    "for i in range(0,np.shape(dataprime_hi)[0]-1):\n",
    "    condition_hi[i]=int(np.array_equal(dataprime_hi[i,0],dataprime_hi[i+1,0]))\n",
    "#0 is k\n",
    "klistinitial_hi=np.zeros(np.shape(dataprime_hi)[0]);\n",
    "j=0;\n",
    "for i in range (0,np.shape(dataprime_hi)[0]-1):\n",
    "    if (condition_hi[i]==0):\n",
    "        klistinitial_hi[j]=dataprime_hi[i-1,0]\n",
    "        j+=1;\n",
    "\n",
    "klist_hi = klistinitial_hi[klistinitial_hi!=0]\n",
    "# klist_hi\n",
    "dataprime_separated_hi = np.zeros((np.shape(klist_hi)[0],np.shape(dataprime_hi)[0],7))\n",
    "for l,p in enumerate(klist_hi):\n",
    "    w = np.shape(dataprime_hi[dataprime_hi[:,0]==p])[0]\n",
    "    dataprime_separated_hi[l,:w,:] = dataprime_hi[dataprime_hi[:,0]==p]\n",
    "#     print(\"separated\",dataprime_separated)\n",
    "np.shape(dataprime_separated_hi)\n",
    "hiclass_cs0_fin=np.zeros((np.shape(klist_hi)[0],6)); # the final file for the fiels are initialized, klist is the list ok k without repitition\n",
    "# Transfer_kess=np.zeros((np.shape(klist)[0],8)); # the final file for the fiels are initialized, klist is the list ok k without repitition\n",
    "Gev_cs0=np.zeros((np.shape(klist_hi)[0],4)); # the Gev appropriate file\n",
    "psi_cs0_hiclass=np.zeros((np.shape(klist_hi)[0],3));                                            # For Gev the K must be in h/Mpc like class\n",
    "                                             #It must be in Newtonian gauge\n",
    "\n",
    "for i in range(np.shape(klist_hi)[0]):\n",
    "#     print(i)\n",
    "    Vec_x_hi = dataprime_separated_hi[i,dataprime_separated_hi[i,:,0]!=0,:]\n",
    "    interp_psi =interp1d(Vec_x_hi[:,1],Vec_x_hi[:,6])\n",
    "\n",
    "    psi_cs0_hiclass[i,0]=klist_hi[i];\n",
    "    psi_cs0_hiclass[i,1]=interp_psi(astar_hi);\n",
    "    psi_cs0_hiclass[i,2]=astar_hi;\n",
    "Result_phi_z0=psi_cs0_hiclass[::-1,:];\n",
    "np.savetxt('psi_hiclass_cs0z100.dat', Result_phi_z0, fmt='%.12e', delimiter='\\t', newline='\\n')\n"
   ]
  },
  {
   "cell_type": "markdown",
   "metadata": {},
   "source": [
    "# Making file in Newtonian gauge at z=10"
   ]
  },
  {
   "cell_type": "code",
   "execution_count": null,
   "metadata": {
    "collapsed": true
   },
   "outputs": [],
   "source": [
    "h=0.67;\n",
    "# file=open(\"kessenc.dat\",'w+');\n",
    "data_hi = hiClass_synch\n",
    "Num_columns=7;\n",
    "astar_hi=1./(10.+1.) # z=100, desired redshift\n",
    "ainterval_hi=0.03  # if you get interpolation error just increase this number :D\n",
    "mask_hi = np.logical_and(data_hi[:,1]>astar_hi-ainterval_hi, data_hi[:,1]<astar_hi+ainterval_hi)\n",
    "# 1 is a column\n",
    "dataprime_hi = data_hi[mask_hi]\n",
    "\n",
    "condition_hi=np.zeros(np.shape(dataprime_hi)[0])\n",
    "for i in range(0,np.shape(dataprime_hi)[0]-1):\n",
    "    condition_hi[i]=int(np.array_equal(dataprime_hi[i,0],dataprime_hi[i+1,0]))\n",
    "#0 is k\n",
    "klistinitial_hi=np.zeros(np.shape(dataprime_hi)[0]);\n",
    "j=0;\n",
    "for i in range (0,np.shape(dataprime_hi)[0]-1):\n",
    "    if (condition_hi[i]==0):\n",
    "        klistinitial_hi[j]=dataprime_hi[i-1,0]\n",
    "        j+=1;\n",
    "\n",
    "klist_hi = klistinitial_hi[klistinitial_hi!=0]\n",
    "# klist_hi\n",
    "dataprime_separated_hi = np.zeros((np.shape(klist_hi)[0],np.shape(dataprime_hi)[0],7))\n",
    "for l,p in enumerate(klist_hi):\n",
    "    w = np.shape(dataprime_hi[dataprime_hi[:,0]==p])[0]\n",
    "    dataprime_separated_hi[l,:w,:] = dataprime_hi[dataprime_hi[:,0]==p]\n",
    "#     print(\"separated\",dataprime_separated)\n",
    "np.shape(dataprime_separated_hi)\n",
    "hiclass_cs0_fin=np.zeros((np.shape(klist_hi)[0],6)); # the final file for the fiels are initialized, klist is the list ok k without repitition\n",
    "# Transfer_kess=np.zeros((np.shape(klist)[0],8)); # the final file for the fiels are initialized, klist is the list ok k without repitition\n",
    "Gev_cs0=np.zeros((np.shape(klist_hi)[0],4)); # the Gev appropriate file\n",
    "psi_cs0_hiclass=np.zeros((np.shape(klist_hi)[0],3));                                            # For Gev the K must be in h/Mpc like class\n",
    "                                             #It must be in Newtonian gauge\n",
    "\n",
    "for i in range(np.shape(klist_hi)[0]):\n",
    "#     print(i)\n",
    "    Vec_x_hi = dataprime_separated_hi[i,dataprime_separated_hi[i,:,0]!=0,:]\n",
    "    interp_psi =interp1d(Vec_x_hi[:,1],Vec_x_hi[:,6])\n",
    "\n",
    "    psi_cs0_hiclass[i,0]=klist_hi[i];\n",
    "    psi_cs0_hiclass[i,1]=interp_psi(astar_hi);\n",
    "    psi_cs0_hiclass[i,2]=astar_hi;\n",
    "Result_phi_z0=psi_cs0_hiclass[::-1,:];\n",
    "np.savetxt('psi_hiclass_cs0z10.dat', Result_phi_z0, fmt='%.12e', delimiter='\\t', newline='\\n')\n"
   ]
  },
  {
   "cell_type": "markdown",
   "metadata": {},
   "source": [
    "# Making file in Newtonian gauge at z=3"
   ]
  },
  {
   "cell_type": "code",
   "execution_count": null,
   "metadata": {
    "collapsed": true
   },
   "outputs": [],
   "source": [
    "h=0.67;\n",
    "# file=open(\"kessenc.dat\",'w+');\n",
    "data_hi = hiClass_synch\n",
    "astar_hi=1./(3.+1.) # z=10, desired redshift\n",
    "ainterval_hi=0.03\n",
    "mask_hi = np.logical_and(data_hi[:,1]>astar_hi-ainterval_hi, data_hi[:,1]<astar_hi+ainterval_hi)\n",
    "# 1 is a column\n",
    "dataprime_hi = data_hi[mask_hi]\n",
    "\n",
    "condition_hi=np.zeros(np.shape(dataprime_hi)[0])\n",
    "for i in range(0,np.shape(dataprime_hi)[0]-1):\n",
    "    condition_hi[i]=int(np.array_equal(dataprime_hi[i,0],dataprime_hi[i+1,0]))\n",
    "#0 is k\n",
    "klistinitial_hi=np.zeros(np.shape(dataprime_hi)[0]);\n",
    "j=0;\n",
    "for i in range (0,np.shape(dataprime_hi)[0]-1):\n",
    "    if (condition_hi[i]==0):\n",
    "        klistinitial_hi[j]=dataprime_hi[i-1,0]\n",
    "        j+=1;\n",
    "\n",
    "klist_hi = klistinitial_hi[klistinitial_hi!=0]\n",
    "# klist_hi\n",
    "dataprime_separated_hi = np.zeros((np.shape(klist_hi)[0],np.shape(dataprime_hi)[0],7))\n",
    "for l,p in enumerate(klist_hi):\n",
    "    w = np.shape(dataprime_hi[dataprime_hi[:,0]==p])[0]\n",
    "    dataprime_separated_hi[l,:w,:] = dataprime_hi[dataprime_hi[:,0]==p]\n",
    "#     print(\"separated\",dataprime_separated)\n",
    "np.shape(dataprime_separated_hi)\n",
    "hiclass_cs0_fin=np.zeros((np.shape(klist_hi)[0],6)); # the final file for the fiels are initialized, klist is the list ok k without repitition\n",
    "# Transfer_kess=np.zeros((np.shape(klist)[0],8)); # the final file for the fiels are initialized, klist is the list ok k without repitition\n",
    "Gev_cs0=np.zeros((np.shape(klist_hi)[0],4)); # the Gev appropriate file\n",
    "psi_cs0_hiclass=np.zeros((np.shape(klist_hi)[0],3));                                            # For Gev the K must be in h/Mpc like class\n",
    "                                             #It must be in Newtonian gauge\n",
    "\n",
    "for i in range(np.shape(klist_hi)[0]):\n",
    "#     print(i)\n",
    "    Vec_x_hi = dataprime_separated_hi[i,dataprime_separated_hi[i,:,0]!=0,:]\n",
    "    interp_psi =interp1d(Vec_x_hi[:,1],Vec_x_hi[:,6])\n",
    "\n",
    "    psi_cs0_hiclass[i,0]=klist_hi[i];\n",
    "    psi_cs0_hiclass[i,1]=interp_psi(astar_hi);\n",
    "    psi_cs0_hiclass[i,2]=astar_hi;\n",
    "Result_phi_z0=psi_cs0_hiclass[::-1,:];\n",
    "np.savetxt('psi_hiclass_cs0z3.dat', Result, fmt='%.12e', delimiter='\\t', newline='\\n')\n",
    "# hiclass_cs0_fin[:30,0]"
   ]
  },
  {
   "cell_type": "markdown",
   "metadata": {},
   "source": [
    "# Making file in Newtonian gauge at z=0"
   ]
  },
  {
   "cell_type": "code",
   "execution_count": null,
   "metadata": {
    "collapsed": true
   },
   "outputs": [],
   "source": [
    "h=0.67;\n",
    "# file=open(\"kessenc.dat\",'w+');\n",
    "data_hi = hiClass_synch\n",
    "astar_hi=1./(0.+1.) # z=10, desired redshift\n",
    "ainterval_hi=0.03\n",
    "mask_hi = np.logical_and(data_hi[:,1]>astar_hi-ainterval_hi, data_hi[:,1]<astar_hi+ainterval_hi)\n",
    "# 1 is a column\n",
    "dataprime_hi = data_hi[mask_hi]\n",
    "\n",
    "condition_hi=np.zeros(np.shape(dataprime_hi)[0])\n",
    "for i in range(0,np.shape(dataprime_hi)[0]-1):\n",
    "    condition_hi[i]=int(np.array_equal(dataprime_hi[i,0],dataprime_hi[i+1,0]))\n",
    "#0 is k\n",
    "klistinitial_hi=np.zeros(np.shape(dataprime_hi)[0]);\n",
    "j=0;\n",
    "for i in range (0,np.shape(dataprime_hi)[0]-1):\n",
    "    if (condition_hi[i]==0):\n",
    "        klistinitial_hi[j]=dataprime_hi[i-1,0]\n",
    "        j+=1;\n",
    "\n",
    "klist_hi = klistinitial_hi[klistinitial_hi!=0]\n",
    "# klist_hi\n",
    "dataprime_separated_hi = np.zeros((np.shape(klist_hi)[0],np.shape(dataprime_hi)[0],7))\n",
    "for l,p in enumerate(klist_hi):\n",
    "    w = np.shape(dataprime_hi[dataprime_hi[:,0]==p])[0]\n",
    "    dataprime_separated_hi[l,:w,:] = dataprime_hi[dataprime_hi[:,0]==p]\n",
    "#     print(\"separated\",dataprime_separated)\n",
    "np.shape(dataprime_separated_hi)\n",
    "hiclass_cs0_fin=np.zeros((np.shape(klist_hi)[0],6)); # the final file for the fiels are initialized, klist is the list ok k without repitition\n",
    "# Transfer_kess=np.zeros((np.shape(klist)[0],8)); # the final file for the fiels are initialized, klist is the list ok k without repitition\n",
    "Gev_cs0=np.zeros((np.shape(klist_hi)[0],4)); # the Gev appropriate file\n",
    "psi_cs0_hiclass=np.zeros((np.shape(klist_hi)[0],3));                                            # For Gev the K must be in h/Mpc like class\n",
    "                                             #It must be in Newtonian gauge\n",
    "\n",
    "for i in range(np.shape(klist_hi)[0]):\n",
    "#     print(i)\n",
    "    Vec_x_hi = dataprime_separated_hi[i,dataprime_separated_hi[i,:,0]!=0,:]\n",
    "    interp_psi =interp1d(Vec_x_hi[:,1],Vec_x_hi[:,6])\n",
    "\n",
    "    psi_cs0_hiclass[i,0]=klist_hi[i];\n",
    "    psi_cs0_hiclass[i,1]=interp_psi(astar_hi);\n",
    "    psi_cs0_hiclass[i,2]=astar_hi;\n",
    "Result_phi_z0=psi_cs0_hiclass[::-1,:];\n",
    "np.savetxt('psi_hiclass_cs0z0.dat', Result, fmt='%.12e', delimiter='\\t', newline='\\n')"
   ]
  }
 ],
 "metadata": {
  "anaconda-cloud": {},
  "kernelspec": {
   "display_name": "Python 2",
   "language": "python",
   "name": "python2"
  },
  "language_info": {
   "codemirror_mode": {
    "name": "ipython",
    "version": 2
   },
   "file_extension": ".py",
   "mimetype": "text/x-python",
   "name": "python",
   "nbconvert_exporter": "python",
   "pygments_lexer": "ipython2",
   "version": "2.7.14"
  }
 },
 "nbformat": 4,
 "nbformat_minor": 1
}
