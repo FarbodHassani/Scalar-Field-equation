{
 "cells": [
  {
   "cell_type": "code",
   "execution_count": 2,
   "metadata": {
    "collapsed": true
   },
   "outputs": [],
   "source": [
    "import numpy as np\n",
    "import matplotlib.pylab as plt\n",
    "from scipy.interpolate import interp1d"
   ]
  },
  {
   "cell_type": "markdown",
   "metadata": {},
   "source": [
    "# \\pi' comparison between class and hi-class"
   ]
  },
  {
   "cell_type": "code",
   "execution_count": 3,
   "metadata": {
    "scrolled": true
   },
   "outputs": [],
   "source": [
    "hiclass_cs0=np.loadtxt(\"./Kessence_field_cs2.dat\")\n",
    "hiclass__bg=np.loadtxt(\"./hi_cs2_background.dat\")\n",
    "# hiclass_new=np.loadtxt(\"./Kessence_field_class_Newhiclass.dat\")\n",
    "# hiclass_cs1=np.loadtxt(\"./Kessence_field_cs1.dat\")\n",
    "# hiclass_cs0z0=np.loadtxt(\"./Kessence_field_cs0_z0.dat\")\n",
    "# class_cs0_synch=np.loadtxt(\"./class_kess_cs0_synch_tk.dat\")\n",
    "# class_cs1_synch=np.loadtxt(\"./class_kess_cs1_synch_tk.dat\")\n",
    "# class_cs0_newt=np.loadtxt(\"./class_kess_cs0_newt_tk.dat\")\n",
    "# class_cs1_newt=np.loadtxt(\"./class_kess_cs1_newt_tk.dat\")"
   ]
  },
  {
   "cell_type": "code",
   "execution_count": 4,
   "metadata": {},
   "outputs": [
    {
     "data": {
      "image/png": "[encoded data removed]",
      "text/plain": [
       "<matplotlib.figure.Figure at 0x1149c6850>"
      ]
     },
     "metadata": {},
     "output_type": "display_data"
    }
   ],
   "source": [
    "plt.plot(hiclass__bg[:,0],hiclass__bg[:,22])\n",
    "plt.show()"
   ]
  },
  {
   "cell_type": "code",
   "execution_count": null,
   "metadata": {
    "collapsed": true
   },
   "outputs": [],
   "source": []
  },
  {
   "cell_type": "markdown",
   "metadata": {},
   "source": [
    "# Make the file of hi-class"
   ]
  },
  {
   "cell_type": "markdown",
   "metadata": {},
   "source": [
    "# Making file in Newtonian gauge at z=100"
   ]
  },
  {
   "cell_type": "code",
   "execution_count": 16,
   "metadata": {
    "collapsed": true
   },
   "outputs": [],
   "source": [
    "h=0.67;\n",
    "# file=open(\"kessenc.dat\",'w+');\n",
    "data_hi = hiclass_cs0\n",
    "astar_hi=1./101. # z=100, desired redshift\n",
    "ainterval_hi=0.03\n",
    "mask_hi = np.logical_and(data_hi[:,1]>astar_hi-ainterval_hi, data_hi[:,1]<astar_hi+ainterval_hi)\n",
    "# 1 is a column\n",
    "dataprime_hi = data_hi[mask_hi]\n",
    "\n",
    "condition_hi=np.zeros(np.shape(dataprime_hi)[0])\n",
    "for i in range(0,np.shape(dataprime_hi)[0]-1):\n",
    "    condition_hi[i]=int(np.array_equal(dataprime_hi[i,0],dataprime_hi[i+1,0]))\n",
    "#0 is k\n",
    "klistinitial_hi=np.zeros(np.shape(dataprime_hi)[0]);\n",
    "j=0;\n",
    "for i in range (0,np.shape(dataprime_hi)[0]-1):\n",
    "    if (condition_hi[i]==0):\n",
    "        klistinitial_hi[j]=dataprime_hi[i-1,0]\n",
    "        j+=1;\n",
    "\n",
    "klist_hi = klistinitial_hi[klistinitial_hi!=0]\n",
    "# klist_hi\n",
    "\n",
    "dataprime_separated_hi = np.zeros((np.shape(klist_hi)[0],np.shape(dataprime_hi)[0],7))\n",
    "for l,p in enumerate(klist_hi):\n",
    "    w = np.shape(dataprime_hi[dataprime_hi[:,0]==p])[0]\n",
    "    dataprime_separated_hi[l,:w,:] = dataprime_hi[dataprime_hi[:,0]==p]\n",
    "#     print(\"separated\",dataprime_separated)\n",
    "np.shape(dataprime_separated_hi)\n",
    "hiclass_cs0_fin=np.zeros((np.shape(klist_hi)[0],6)); # the final file for the fiels are initialized, klist is the list ok k without repitition\n",
    "# Transfer_kess=np.zeros((np.shape(klist)[0],8)); # the final file for the fiels are initialized, klist is the list ok k without repitition\n",
    "Gev_cs0=np.zeros((np.shape(klist_hi)[0],4)); # the Gev appropriate file\n",
    "psi_cs0_hiclass=np.zeros((np.shape(klist_hi)[0],2));                                            # For Gev the K must be in h/Mpc like class\n",
    "                                             #It must be in Newtonian gauge\n",
    "\n",
    "for i in range(np.shape(klist_hi)[0]):\n",
    "#     print(i)\n",
    "    Vec_x_hi = dataprime_separated_hi[i,dataprime_separated_hi[i,:,0]!=0,:]\n",
    "    interp_pi_synch =interp1d(Vec_x_hi[:,1],Vec_x_hi[:,2])\n",
    "    interp_pi_prime_synch =interp1d(Vec_x_hi[:,1],Vec_x_hi[:,3])\n",
    "    interp_alpha =interp1d(Vec_x_hi[:,1],Vec_x_hi[:,4])\n",
    "    interp_alpha_prime =interp1d(Vec_x_hi[:,1],Vec_x_hi[:,5])\n",
    "    interp_psi =interp1d(Vec_x_hi[:,1],Vec_x_hi[:,6])\n",
    "    \n",
    "    hiclass_cs0_fin[i,0]=klist_hi[i]\n",
    "    hiclass_cs0_fin[i,1]=interp_pi_synch(astar_hi)\n",
    "    hiclass_cs0_fin[i,2]=interp_pi_prime_synch(astar_hi)\n",
    "    hiclass_cs0_fin[i,3]=interp_alpha(astar_hi)\n",
    "    hiclass_cs0_fin[i,4]=interp_alpha_prime(astar_hi)\n",
    "    hiclass_cs0_fin[i,5]=interp_psi(astar_hi)\n",
    "    psi_cs0_hiclass[i,0]=klist_hi[i];\n",
    "    psi_cs0_hiclass[i,1]=hiclass_cs0_fin[i,5];\n",
    "    Gev_cs0[i,0]=hiclass_cs0_fin[i,0];\n",
    "    Gev_cs0[i,1]=hiclass_cs0_fin[i,1]+hiclass_cs0_fin[i,3];\n",
    "    Gev_cs0[i,2]=hiclass_cs0_fin[i,2]+hiclass_cs0_fin[i,4];\n",
    "    Gev_cs0[i,3]=dataprime_hi[i,1];\n",
    "    \n",
    "Result=Gev_cs0[::-1,:];\n",
    "ResultAll=hiclass_cs0_fin[::-1,:];\n",
    "Result_phi_z0=psi_cs0_hiclass[::-1,:];\n",
    "np.savetxt('kessence_gev_cs0z100.dat', Result, fmt='%.12e', delimiter='\\t', newline='\\n')\n",
    "np.savetxt('kessence_Allhiclass_cs0z100.dat', ResultAll, fmt='%.12e', delimiter='\\t', newline='\\n')\n",
    "np.savetxt('phi_hiclass_cs0z100.dat', Result_phi_z0, fmt='%.12e', delimiter='\\t', newline='\\n')\n",
    "\n",
    "# hiclass_cs0_fin[:30,0]"
   ]
  },
  {
   "cell_type": "code",
   "execution_count": 17,
   "metadata": {},
   "outputs": [
    {
     "ename": "NameError",
     "evalue": "name 'hiclass_new' is not defined",
     "output_type": "error",
     "traceback": [
      "\u001b[0;31m---------------------------------------------------------------------------\u001b[0m",
      "\u001b[0;31mNameError\u001b[0m                                 Traceback (most recent call last)",
      "\u001b[0;32m<ipython-input-17-08c705572594>\u001b[0m in \u001b[0;36m<module>\u001b[0;34m()\u001b[0m\n\u001b[1;32m     20\u001b[0m \u001b[0mplt\u001b[0m\u001b[0;34m.\u001b[0m\u001b[0mplot\u001b[0m\u001b[0;34m(\u001b[0m\u001b[0mhiclass_cs0_fin\u001b[0m\u001b[0;34m[\u001b[0m\u001b[0;34m:\u001b[0m\u001b[0;34m,\u001b[0m\u001b[0;36m0\u001b[0m\u001b[0;34m]\u001b[0m\u001b[0;34m,\u001b[0m \u001b[0mhiclass_cs0_fin\u001b[0m\u001b[0;34m[\u001b[0m\u001b[0;34m:\u001b[0m\u001b[0;34m,\u001b[0m\u001b[0;36m5\u001b[0m\u001b[0;34m]\u001b[0m\u001b[0;34m,\u001b[0m\u001b[0mcolor\u001b[0m\u001b[0;34m=\u001b[0m\u001b[0;34m\"red\"\u001b[0m\u001b[0;34m,\u001b[0m\u001b[0mlabel\u001b[0m\u001b[0;34m=\u001b[0m\u001b[0;34mr\"hiclass internally, z=100\"\u001b[0m\u001b[0;34m)\u001b[0m\u001b[0;34m\u001b[0m\u001b[0m\n\u001b[1;32m     21\u001b[0m \u001b[0mplt\u001b[0m\u001b[0;34m.\u001b[0m\u001b[0mplot\u001b[0m\u001b[0;34m(\u001b[0m\u001b[0mhiclass_cs0_fin\u001b[0m\u001b[0;34m[\u001b[0m\u001b[0;34m:\u001b[0m\u001b[0;34m,\u001b[0m\u001b[0;36m0\u001b[0m\u001b[0;34m]\u001b[0m\u001b[0;34m,\u001b[0m \u001b[0mpsi\u001b[0m\u001b[0;34m[\u001b[0m\u001b[0;34m:\u001b[0m\u001b[0;34m]\u001b[0m\u001b[0;34m,\u001b[0m\u001b[0mcolor\u001b[0m\u001b[0;34m=\u001b[0m\u001b[0;34m\"blue\"\u001b[0m\u001b[0;34m,\u001b[0m\u001b[0mlabel\u001b[0m\u001b[0;34m=\u001b[0m\u001b[0;34mr\"hiclass internally, z=100\"\u001b[0m\u001b[0;34m)\u001b[0m\u001b[0;34m\u001b[0m\u001b[0m\n\u001b[0;32m---> 22\u001b[0;31m \u001b[0mplt\u001b[0m\u001b[0;34m.\u001b[0m\u001b[0mplot\u001b[0m\u001b[0;34m(\u001b[0m\u001b[0mhiclass_new\u001b[0m\u001b[0;34m[\u001b[0m\u001b[0;34m:\u001b[0m\u001b[0;34m,\u001b[0m\u001b[0;36m0\u001b[0m\u001b[0;34m]\u001b[0m\u001b[0;34m,\u001b[0m \u001b[0mhiclass_new\u001b[0m\u001b[0;34m[\u001b[0m\u001b[0;34m:\u001b[0m\u001b[0;34m,\u001b[0m\u001b[0;36m2\u001b[0m\u001b[0;34m]\u001b[0m\u001b[0;34m,\u001b[0m\u001b[0mcolor\u001b[0m\u001b[0;34m=\u001b[0m\u001b[0;34m\"green\"\u001b[0m\u001b[0;34m,\u001b[0m\u001b[0mlabel\u001b[0m\u001b[0;34m=\u001b[0m\u001b[0;34mr\"hiclass internally, z=100\"\u001b[0m\u001b[0;34m)\u001b[0m\u001b[0;34m\u001b[0m\u001b[0m\n\u001b[0m\u001b[1;32m     23\u001b[0m \u001b[0;34m\u001b[0m\u001b[0m\n\u001b[1;32m     24\u001b[0m \u001b[0;31m# plt.plot(Psi_class[:,0], Psi_class[:,1],color=\"blue\",label=r\"Class internally, z=100\")\u001b[0m\u001b[0;34m\u001b[0m\u001b[0;34m\u001b[0m\u001b[0m\n",
      "\u001b[0;31mNameError\u001b[0m: name 'hiclass_new' is not defined"
     ]
    }
   ],
   "source": [
    "# plt.plot(phi_hiclass_output[:,0],phi_hiclass_output[:,1],color=\"Blue\",label=r\" z=100\")\n",
    "# params for makin power dimensionless\n",
    "As=2.19*10**-9;\n",
    "h=0.67;\n",
    "kp=0.05/h; \n",
    "ns=0.96;\n",
    "H=2.25*10**-4\n",
    "#Plot setting\n",
    "psi=hiclass_cs0_fin[:,4]+ H*hiclass_cs0_fin[:,3]\n",
    "# Psi_Gev_scaled=np.sqrt(Psi_Gev[:,1]*(As*(Psi_Gev[:,0]/kp)**(ns-1))**-1);\n",
    "# Psi_GevStrd_scaled=np.sqrt(Psi_Gev_Normal[:,1]*(As*(Psi_Gev_Normal[:,0]/kp)**(ns-1))**-1);\n",
    "\n",
    "# phi_class_output_scaled=np.sqrt(phi_class_output[:,1])\n",
    "\n",
    "plt.figure(figsize=(20,20))\n",
    "ax = plt.gca()\n",
    "ax.tick_params(axis = 'both', which = 'major', labelsize = 24)\n",
    "ax.tick_params(axis = 'both', which = 'minor', labelsize = 16)\n",
    "\n",
    "plt.plot(hiclass_cs0_fin[:,0], hiclass_cs0_fin[:,5],color=\"red\",label=r\"hiclass internally, z=100\")\n",
    "plt.plot(hiclass_cs0_fin[:,0], psi[:],color=\"blue\",label=r\"hiclass internally, z=100\")\n",
    "plt.plot(hiclass_new[:,0], hiclass_new[:,2],color=\"green\",label=r\"hiclass internally, z=100\")\n",
    "\n",
    "# plt.plot(Psi_class[:,0], Psi_class[:,1],color=\"blue\",label=r\"Class internally, z=100\")\n",
    "# plt.plot(phi_class_output[:,0]*h, phi_class_output[:,7],color=\"green\",label=r\"Class output,z=100\")\n",
    "# plt.plot(Psi_Gev[:,0], Psi_Gev_scaled[:],color=\"black\",label=r\"Class output,z=100\")\n",
    "# plt.plot(Psi_Gev_Normal[:,0], Psi_GevStrd_scaled[:],color=\"Purple\",label=r\"Class output,z=100\")\n",
    "\n",
    "plt.legend(bbox_to_anchor=(0.8, 0.90, 0.2, .102), loc=1,ncol=1,fontsize=15, mode=\"expand\", borderaxespad=0.)\n",
    "plt.xscale('log')\n",
    "plt.yscale(\"log\")\n",
    "# plt.yscale('log')\n",
    "plt.xlabel(\"k[h/Mpc]\",fontsize=20)\n",
    "plt.ylabel(r\"$P_{\\pi}[Mpc^3]$\",fontsize=20)\n",
    "plt.xlim(0.0001,5)\n",
    "# plt.ylim(1.e-17,1.e-1)\n",
    "# plt.savefig('field_derivative_comparison.jpg',bbox_inches='tight')\n",
    "plt.show()\n"
   ]
  },
  {
   "cell_type": "markdown",
   "metadata": {},
   "source": [
    "# Making file in Newtonian gauge at z=10"
   ]
  },
  {
   "cell_type": "code",
   "execution_count": 18,
   "metadata": {
    "collapsed": true
   },
   "outputs": [],
   "source": [
    "h=0.67;\n",
    "# file=open(\"kessenc.dat\",'w+');\n",
    "data_hi = hiclass_cs0\n",
    "astar_hi=1./(10.+1.) # z=10, desired redshift\n",
    "ainterval_hi=0.03\n",
    "mask_hi = np.logical_and(data_hi[:,1]>astar_hi-ainterval_hi, data_hi[:,1]<astar_hi+ainterval_hi)\n",
    "# 1 is a column\n",
    "dataprime_hi = data_hi[mask_hi]\n",
    "\n",
    "condition_hi=np.zeros(np.shape(dataprime_hi)[0])\n",
    "for i in range(0,np.shape(dataprime_hi)[0]-1):\n",
    "    condition_hi[i]=int(np.array_equal(dataprime_hi[i,0],dataprime_hi[i+1,0]))\n",
    "#0 is k\n",
    "klistinitial_hi=np.zeros(np.shape(dataprime_hi)[0]);\n",
    "j=0;\n",
    "for i in range (0,np.shape(dataprime_hi)[0]-1):\n",
    "    if (condition_hi[i]==0):\n",
    "        klistinitial_hi[j]=dataprime_hi[i-1,0]\n",
    "        j+=1;\n",
    "\n",
    "klist_hi = klistinitial_hi[klistinitial_hi!=0]\n",
    "# klist_hi\n",
    "\n",
    "dataprime_separated_hi = np.zeros((np.shape(klist_hi)[0],np.shape(dataprime_hi)[0],7))\n",
    "for l,p in enumerate(klist_hi):\n",
    "    w = np.shape(dataprime_hi[dataprime_hi[:,0]==p])[0]\n",
    "    dataprime_separated_hi[l,:w,:] = dataprime_hi[dataprime_hi[:,0]==p]\n",
    "#     print(\"separated\",dataprime_separated)\n",
    "np.shape(dataprime_separated_hi)\n",
    "hiclass_cs0_fin=np.zeros((np.shape(klist_hi)[0],6)); # the final file for the fiels are initialized, klist is the list ok k without repitition\n",
    "# Transfer_kess=np.zeros((np.shape(klist)[0],8)); # the final file for the fiels are initialized, klist is the list ok k without repitition\n",
    "Gev_cs0=np.zeros((np.shape(klist_hi)[0],4)); # the Gev appropriate file\n",
    "                                             # For Gev the K must be in h/Mpc like class\n",
    "                                             #It must be in Newtonian gauge\n",
    "\n",
    "for i in range(np.shape(klist_hi)[0]):\n",
    "#     print(i)\n",
    "    Vec_x_hi = dataprime_separated_hi[i,dataprime_separated_hi[i,:,0]!=0,:]\n",
    "    interp_pi_synch =interp1d(Vec_x_hi[:,1],Vec_x_hi[:,2])\n",
    "    interp_pi_prime_synch =interp1d(Vec_x_hi[:,1],Vec_x_hi[:,3])\n",
    "    interp_alpha =interp1d(Vec_x_hi[:,1],Vec_x_hi[:,4])\n",
    "    interp_alpha_prime =interp1d(Vec_x_hi[:,1],Vec_x_hi[:,5])\n",
    "    interp_psi =interp1d(Vec_x_hi[:,1],Vec_x_hi[:,6])\n",
    "    \n",
    "    hiclass_cs0_fin[i,0]=klist_hi[i]\n",
    "    hiclass_cs0_fin[i,1]=interp_pi_synch(astar_hi)\n",
    "    hiclass_cs0_fin[i,2]=interp_pi_prime_synch(astar_hi)\n",
    "    hiclass_cs0_fin[i,3]=interp_alpha(astar_hi)\n",
    "    hiclass_cs0_fin[i,4]=interp_alpha_prime(astar_hi)\n",
    "    hiclass_cs0_fin[i,5]=interp_psi(astar_hi)\n",
    "    \n",
    "    Gev_cs0[i,0]=hiclass_cs0_fin[i,0];\n",
    "    Gev_cs0[i,1]=hiclass_cs0_fin[i,1]+hiclass_cs0_fin[i,3];\n",
    "    Gev_cs0[i,2]=hiclass_cs0_fin[i,2]+hiclass_cs0_fin[i,4];\n",
    "    Gev_cs0[i,3]=dataprime_hi[i,1];\n",
    "\n",
    "Result=Gev_cs0[::-1,:]\n",
    "ResultAll=hiclass_cs0_fin[::-1,:];\n",
    "np.savetxt('kessence_Allhiclass_cs0z10.dat', ResultAll, fmt='%.12e', delimiter='\\t', newline='\\n')\n",
    "np.savetxt('kessence_gev_cs0z10.dat', Result, fmt='%.12e', delimiter='\\t', newline='\\n')\n",
    "# hiclass_cs0_fin[:30,0]"
   ]
  },
  {
   "cell_type": "markdown",
   "metadata": {},
   "source": [
    "# Making file in Newtonian gauge at z=3"
   ]
  },
  {
   "cell_type": "code",
   "execution_count": 19,
   "metadata": {
    "collapsed": true
   },
   "outputs": [],
   "source": [
    "h=0.67;\n",
    "# file=open(\"kessenc.dat\",'w+');\n",
    "data_hi = hiclass_cs0\n",
    "astar_hi=1./(3.+1.) # z=3, desired redshift\n",
    "ainterval_hi=0.03\n",
    "mask_hi = np.logical_and(data_hi[:,1]>astar_hi-ainterval_hi, data_hi[:,1]<astar_hi+ainterval_hi)\n",
    "# 1 is a column\n",
    "dataprime_hi = data_hi[mask_hi]\n",
    "\n",
    "condition_hi=np.zeros(np.shape(dataprime_hi)[0])\n",
    "for i in range(0,np.shape(dataprime_hi)[0]-1):\n",
    "    condition_hi[i]=int(np.array_equal(dataprime_hi[i,0],dataprime_hi[i+1,0]))\n",
    "#0 is k\n",
    "klistinitial_hi=np.zeros(np.shape(dataprime_hi)[0]);\n",
    "j=0;\n",
    "for i in range (0,np.shape(dataprime_hi)[0]-1):\n",
    "    if (condition_hi[i]==0):\n",
    "        klistinitial_hi[j]=dataprime_hi[i-1,0]\n",
    "        j+=1;\n",
    "\n",
    "klist_hi = klistinitial_hi[klistinitial_hi!=0]\n",
    "# klist_hi\n",
    "\n",
    "dataprime_separated_hi = np.zeros((np.shape(klist_hi)[0],np.shape(dataprime_hi)[0],7))\n",
    "for l,p in enumerate(klist_hi):\n",
    "    w = np.shape(dataprime_hi[dataprime_hi[:,0]==p])[0]\n",
    "    dataprime_separated_hi[l,:w,:] = dataprime_hi[dataprime_hi[:,0]==p]\n",
    "#     print(\"separated\",dataprime_separated)\n",
    "np.shape(dataprime_separated_hi)\n",
    "hiclass_cs0_fin=np.zeros((np.shape(klist_hi)[0],6)); # the final file for the fiels are initialized, klist is the list ok k without repitition\n",
    "# Transfer_kess=np.zeros((np.shape(klist)[0],8)); # the final file for the fiels are initialized, klist is the list ok k without repitition\n",
    "Gev_cs0=np.zeros((np.shape(klist_hi)[0],4)); # the Gev appropriate file\n",
    "                                             # For Gev the K must be in h/Mpc like class\n",
    "                                             #It must be in Newtonian gauge\n",
    "\n",
    "for i in range(np.shape(klist_hi)[0]):\n",
    "#     print(i)\n",
    "    Vec_x_hi = dataprime_separated_hi[i,dataprime_separated_hi[i,:,0]!=0,:]\n",
    "    interp_pi_synch =interp1d(Vec_x_hi[:,1],Vec_x_hi[:,2])\n",
    "    interp_pi_prime_synch =interp1d(Vec_x_hi[:,1],Vec_x_hi[:,3])\n",
    "    interp_alpha =interp1d(Vec_x_hi[:,1],Vec_x_hi[:,4])\n",
    "    interp_alpha_prime =interp1d(Vec_x_hi[:,1],Vec_x_hi[:,5])\n",
    "    interp_psi =interp1d(Vec_x_hi[:,1],Vec_x_hi[:,6])\n",
    "    \n",
    "    hiclass_cs0_fin[i,0]=klist_hi[i]\n",
    "    hiclass_cs0_fin[i,1]=interp_pi_synch(astar_hi)\n",
    "    hiclass_cs0_fin[i,2]=interp_pi_prime_synch(astar_hi)\n",
    "    hiclass_cs0_fin[i,3]=interp_alpha(astar_hi)\n",
    "    hiclass_cs0_fin[i,4]=interp_alpha_prime(astar_hi)\n",
    "    hiclass_cs0_fin[i,5]=interp_psi(astar_hi)\n",
    "    \n",
    "    Gev_cs0[i,0]=hiclass_cs0_fin[i,0];\n",
    "    Gev_cs0[i,1]=hiclass_cs0_fin[i,1]+hiclass_cs0_fin[i,3];\n",
    "    Gev_cs0[i,2]=hiclass_cs0_fin[i,2]+hiclass_cs0_fin[i,4];\n",
    "    Gev_cs0[i,3]=dataprime_hi[i,1];\n",
    "\n",
    "Result=Gev_cs0[::-1,:]\n",
    "ResultAll=hiclass_cs0_fin[::-1,:];\n",
    "np.savetxt('kessence_Allhiclass_cs0z3.dat', ResultAll, fmt='%.12e', delimiter='\\t', newline='\\n')\n",
    "np.savetxt('kessence_gev_cs0z3.dat', Result, fmt='%.12e', delimiter='\\t', newline='\\n')\n",
    "# hiclass_cs0_fin[:30,0]"
   ]
  },
  {
   "cell_type": "markdown",
   "metadata": {},
   "source": [
    "# Making file in Newtonian gauge at z=0"
   ]
  },
  {
   "cell_type": "code",
   "execution_count": 20,
   "metadata": {
    "collapsed": true
   },
   "outputs": [],
   "source": [
    "h=0.67;\n",
    "# file=open(\"kessenc.dat\",'w+');\n",
    "data_hi = hiclass_cs0\n",
    "astar_hi=1./(0.+1.) # z=0, desired redshift\n",
    "ainterval_hi=0.03\n",
    "mask_hi = np.logical_and(data_hi[:,1]>astar_hi-ainterval_hi, data_hi[:,1]<astar_hi+ainterval_hi)\n",
    "# 1 is a column\n",
    "dataprime_hi = data_hi[mask_hi]\n",
    "\n",
    "condition_hi=np.zeros(np.shape(dataprime_hi)[0])\n",
    "for i in range(0,np.shape(dataprime_hi)[0]-1):\n",
    "    condition_hi[i]=int(np.array_equal(dataprime_hi[i,0],dataprime_hi[i+1,0]))\n",
    "#0 is k\n",
    "klistinitial_hi=np.zeros(np.shape(dataprime_hi)[0]);\n",
    "j=0;\n",
    "for i in range (0,np.shape(dataprime_hi)[0]-1):\n",
    "    if (condition_hi[i]==0):\n",
    "        klistinitial_hi[j]=dataprime_hi[i-1,0]\n",
    "        j+=1;\n",
    "\n",
    "klist_hi = klistinitial_hi[klistinitial_hi!=0]\n",
    "# klist_hi\n",
    "\n",
    "dataprime_separated_hi = np.zeros((np.shape(klist_hi)[0],np.shape(dataprime_hi)[0],7))\n",
    "for l,p in enumerate(klist_hi):\n",
    "    w = np.shape(dataprime_hi[dataprime_hi[:,0]==p])[0]\n",
    "    dataprime_separated_hi[l,:w,:] = dataprime_hi[dataprime_hi[:,0]==p]\n",
    "#     print(\"separated\",dataprime_separated)\n",
    "np.shape(dataprime_separated_hi)\n",
    "hiclass_cs0_fin=np.zeros((np.shape(klist_hi)[0],6)); # the final file for the fiels are initialized, klist is the list ok k without repitition\n",
    "# Transfer_kess=np.zeros((np.shape(klist)[0],8)); # the final file for the fiels are initialized, klist is the list ok k without repitition\n",
    "Gev_cs0=np.zeros((np.shape(klist_hi)[0],4)); # the Gev appropriate file\n",
    "                                             # For Gev the K must be in h/Mpc like class\n",
    "                                             #It must be in Newtonian gauge\n",
    "\n",
    "for i in range(np.shape(klist_hi)[0]):\n",
    "#     print(i)\n",
    "    Vec_x_hi = dataprime_separated_hi[i,dataprime_separated_hi[i,:,0]!=0,:]\n",
    "    interp_pi_synch =interp1d(Vec_x_hi[:,1],Vec_x_hi[:,2])\n",
    "    interp_pi_prime_synch =interp1d(Vec_x_hi[:,1],Vec_x_hi[:,3])\n",
    "    interp_alpha =interp1d(Vec_x_hi[:,1],Vec_x_hi[:,4])\n",
    "    interp_alpha_prime =interp1d(Vec_x_hi[:,1],Vec_x_hi[:,5])\n",
    "    interp_psi =interp1d(Vec_x_hi[:,1],Vec_x_hi[:,6])\n",
    "    hiclass_cs0_fin[i,0]=klist_hi[i]\n",
    "    hiclass_cs0_fin[i,1]=interp_pi_synch(astar_hi)\n",
    "    hiclass_cs0_fin[i,2]=interp_pi_prime_synch(astar_hi)\n",
    "    hiclass_cs0_fin[i,3]=interp_alpha(astar_hi)\n",
    "    hiclass_cs0_fin[i,4]=interp_alpha_prime(astar_hi)\n",
    "    hiclass_cs0_fin[i,5]=interp_psi(astar_hi)\n",
    "    \n",
    "    Gev_cs0[i,0]=hiclass_cs0_fin[i,0];\n",
    "    Gev_cs0[i,1]=hiclass_cs0_fin[i,1]+hiclass_cs0_fin[i,3];\n",
    "    Gev_cs0[i,2]=hiclass_cs0_fin[i,2]+hiclass_cs0_fin[i,4];\n",
    "    Gev_cs0[i,3]=dataprime_hi[i,1];\n",
    "\n",
    "Result=Gev_cs0[::-1,:]\n",
    "ResultAll=hiclass_cs0_fin[::-1,:];\n",
    "np.savetxt('kessence_Allhiclass_cs0z0.dat', ResultAll, fmt='%.12e', delimiter='\\t', newline='\\n')\n",
    "np.savetxt('kessence_gev_cs0z0.dat', Result, fmt='%.12e', delimiter='\\t', newline='\\n')\n",
    "# hiclass_cs0_fin[:30,0]"
   ]
  },
  {
   "cell_type": "code",
   "execution_count": null,
   "metadata": {
    "collapsed": true
   },
   "outputs": [],
   "source": []
  }
 ],
 "metadata": {
  "anaconda-cloud": {},
  "kernelspec": {
   "display_name": "Python 2",
   "language": "python",
   "name": "python2"
  },
  "language_info": {
   "codemirror_mode": {
    "name": "ipython",
    "version": 2
   },
   "file_extension": ".py",
   "mimetype": "text/x-python",
   "name": "python",
   "nbconvert_exporter": "python",
   "pygments_lexer": "ipython2",
   "version": "2.7.14"
  }
 },
 "nbformat": 4,
 "nbformat_minor": 1
}
