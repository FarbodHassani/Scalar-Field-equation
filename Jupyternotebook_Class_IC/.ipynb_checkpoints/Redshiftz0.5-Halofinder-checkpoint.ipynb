{
 "cells": [
  {
   "cell_type": "code",
   "execution_count": 21,
   "metadata": {},
   "outputs": [
    {
     "data": {
      "text/plain": [
       "array([  67.00763965,   69.86008059,  220.91532295,  163.40816063,\n",
       "        221.32310902,  219.27725064,  258.47771692,  270.91325585,\n",
       "        285.80391688,  293.89443027,  340.4318158 ,  330.75200924,\n",
       "        186.29214864,  227.9842713 ,  258.28225742,  263.20976738,\n",
       "        278.49031676,  303.76188518,  310.01837986,  307.68958253,\n",
       "        309.82113576,  295.28652652,  292.79070125,  332.8628517 ,\n",
       "        387.58658442,  385.20018955,  350.820844  ,  342.56159214,\n",
       "        391.5852657 ,  434.53571098,  251.47273785,  270.53098341,\n",
       "        271.18545096,  352.62246788,  363.86090031,  303.97823048,\n",
       "        304.75239815,  341.62896479,  392.15934635,  377.36291996,\n",
       "        411.24845839,  304.36101581,  367.97833783,  443.99315162,\n",
       "        451.49000509,  465.81336996,  466.7625101 ,  538.13090551])"
      ]
     },
     "execution_count": 21,
     "metadata": {},
     "output_type": "execute_result"
    }
   ],
   "source": [
    "import numpy as np\n",
    "tip=('id' ,'num_p', 'mvir', 'mbound_vir', 'rvir', 'vmax', 'rvmax' ,'vrms' ,'x', 'y'\n",
    "     ,'z' ,'vx' ,'vy' ,'vz' , 'Jx', 'Jy', 'Jz', 'E' ,'Spin' ,'PosUncertainty', 'VelUncertainty' ,'bulk_vx', \n",
    "     'bulk_vy', 'bulk_vz', 'BulkVelUnc', 'n_core' ,'m200b' ,'m200c' ,'m500c' ,'m2500c' ,'Xoff',' Voff' ,\n",
    "     'spin_bullock' ,'b_to_a',' c_to_a',' A[x]' ,'A[y]' ,'A[z]' ,'b_to_a(500c)' ,'c_to_a(500c)' ,'A[x](500c)' ,\n",
    "     'A[y](500c)' ,'A[z](500c)' ,'Rs' ,'Rs_Klypin', 'T/|U|',' M_pe_Behroozi', 'M_pe_Diemer',' Halfmass_Radius',\n",
    "     'idx' ,'i_so' ,'i_ph' ,'num_cp' ,'mmetric')\n",
    "doubl=['float64' for i in tip]\n",
    "redshift=[0,0,0,3,1,0.5,0]\n",
    "halo_s=[0 for i in range(7)]\n",
    "halo_d=[0 for i in range(7)]\n",
    "r_s=[0 for i in range(7)]\n",
    "r_d=[0 for i in range(7)]\n",
    "\n",
    "for snap in range(3,7):\n",
    "    halo_s[snap]=np.loadtxt('./gevolution-dev-master-single/output-64grid-single/'+str(snap), \n",
    "                  dtype={'names': tip, 'formats':doubl})\n",
    "    halo_d[snap]=np.loadtxt('./gevolution-dev-master-double/output-64-double/'+str(snap), \n",
    "                  dtype={'names': tip, 'formats':doubl})\n",
    "    r_s[snap]=np.sqrt(halo_s[snap]['x']**2+halo_s[snap]['y']**2+halo_s[snap]['z']**2)\n",
    "    r_d[snap]=np.sqrt(halo_d[snap]['x']**2+halo_d[snap]['y']**2+halo_d[snap]['z']**2)\n",
    "r_d[6]\n"
   ]
  },
  {
   "cell_type": "code",
   "execution_count": 36,
   "metadata": {},
   "outputs": [],
   "source": [
    "import matplotlib.pylab as plt\n",
    "%matplotlib inline\n",
    "for snap in range(3,7):\n",
    "    plt.hist(r_s[snap],25,color='red',alpha=0.5,label=r'$Single,\\ $'+r'$'+'z='+str(redshift[snap])+'$')\n",
    "    plt.hist(r_d[snap],25,color='blue',alpha=0.5,label=r'$Double,\\ $'+r'$'+'z='+str(redshift[snap])+'$')\n",
    "    plt.legend()\n",
    "    plt.ylabel('$\\# Halos$',fontsize=25)\n",
    "    plt.xlabel(r'$R \\, [Mpc/h]$',fontsize=25)\n",
    "    #plt.ylim(1,20)\n",
    "    plt.subplots_adjust(left=0.1, right=0.9, top=0.9, bottom=0.18)\n",
    "    plt.savefig('HistR'+str(redshift[snap])+'.jpg')\n",
    "    plt.close()"
   ]
  },
  {
   "cell_type": "code",
   "execution_count": 38,
   "metadata": {
    "collapsed": true
   },
   "outputs": [],
   "source": [
    "import matplotlib.pylab as plt\n",
    "%matplotlib inline\n",
    "for snap in range(3,7):\n",
    "    plt.hist(halo_s[snap]['mvir'],25,color='red',alpha=0.5,label=r'$Single,\\ $'+r'$'+'z='+str(redshift[snap])+'$')\n",
    "    plt.hist(halo_d[snap]['mvir'],25,color='blue',alpha=0.5\n",
    "        ,label=r'$Double,\\ $'+r'$'+'z='+str(redshift[snap])+'$')\n",
    "    plt.legend()\n",
    "    plt.ylabel(r'$\\# Halos$',fontsize=25)\n",
    "    plt.xlabel(r'$M_{vir}  [M_\\odot /h]$',fontsize=25)\n",
    "    #plt.ylim(1,20)\n",
    "    #plt.ylim(1,20)\n",
    "    plt.subplots_adjust(left=0.2, right=0.9, top=0.9, bottom=0.18)\n",
    "    plt.savefig('HistM'+str(redshift[snap])+'.jpg')\n",
    "    plt.close()"
   ]
  },
  {
   "cell_type": "code",
   "execution_count": null,
   "metadata": {
    "collapsed": true
   },
   "outputs": [],
   "source": []
  }
 ],
 "metadata": {
  "kernelspec": {
   "display_name": "Python 2",
   "language": "python",
   "name": "python2"
  },
  "language_info": {
   "codemirror_mode": {
    "name": "ipython",
    "version": 2
   },
   "file_extension": ".py",
   "mimetype": "text/x-python",
   "name": "python",
   "nbconvert_exporter": "python",
   "pygments_lexer": "ipython2",
   "version": "2.7.14"
  }
 },
 "nbformat": 4,
 "nbformat_minor": 1
}
