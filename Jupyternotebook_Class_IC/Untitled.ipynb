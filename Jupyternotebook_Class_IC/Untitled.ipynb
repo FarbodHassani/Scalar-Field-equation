{
 "cells": [
  {
   "cell_type": "code",
   "execution_count": 1,
   "metadata": {
    "collapsed": true
   },
   "outputs": [],
   "source": [
    "import sys"
   ]
  },
  {
   "cell_type": "code",
   "execution_count": 2,
   "metadata": {
    "collapsed": false
   },
   "outputs": [
    {
     "data": {
      "text/plain": [
       "['',\n",
       " '/home/farbod/packages/anaconda2/lib/python27.zip',\n",
       " '/home/farbod/packages/anaconda2/lib/python2.7',\n",
       " '/home/farbod/packages/anaconda2/lib/python2.7/plat-linux2',\n",
       " '/home/farbod/packages/anaconda2/lib/python2.7/lib-tk',\n",
       " '/home/farbod/packages/anaconda2/lib/python2.7/lib-old',\n",
       " '/home/farbod/packages/anaconda2/lib/python2.7/lib-dynload',\n",
       " '/home/farbod/packages/anaconda2/lib/python2.7/site-packages',\n",
       " '/home/farbod/packages/anaconda2/lib/python2.7/site-packages/Sphinx-1.4.6-py2.7.egg',\n",
       " '/home/farbod/packages/anaconda2/lib/python2.7/site-packages/pyGadgetReader-2.6-py2.7.egg',\n",
       " '/home/farbod/packages/anaconda2/lib/python2.7/site-packages/setuptools-27.2.0-py2.7.egg',\n",
       " '/home/farbod/packages/anaconda2/lib/python2.7/site-packages/IPython/extensions',\n",
       " '/home/farbod/.ipython']"
      ]
     },
     "execution_count": 2,
     "metadata": {},
     "output_type": "execute_result"
    }
   ],
   "source": [
    "sys.path"
   ]
  },
  {
   "cell_type": "code",
   "execution_count": null,
   "metadata": {
    "collapsed": true
   },
   "outputs": [],
   "source": []
  }
 ],
 "metadata": {
  "kernelspec": {
   "display_name": "Python [default]",
   "language": "python",
   "name": "python2"
  },
  "language_info": {
   "codemirror_mode": {
    "name": "ipython",
    "version": 2
   },
   "file_extension": ".py",
   "mimetype": "text/x-python",
   "name": "python",
   "nbconvert_exporter": "python",
   "pygments_lexer": "ipython2",
   "version": "2.7.12"
  }
 },
 "nbformat": 4,
 "nbformat_minor": 1
}
